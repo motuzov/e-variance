{
 "cells": [
  {
   "cell_type": "code",
   "execution_count": 1,
   "id": "a17084a5-e534-4a6f-bbe0-d11a59d6032d",
   "metadata": {},
   "outputs": [],
   "source": [
    "%load_ext autoreload\n",
    "%autoreload 2"
   ]
  },
  {
   "cell_type": "code",
   "execution_count": 2,
   "id": "219c15dd-e1ca-4ca0-a997-aeffe943f86b",
   "metadata": {},
   "outputs": [],
   "source": [
    "from evar.workflow import EvarWorkflow, make_kfold_splits\n",
    "from evar.data import COLUMN_NAMES\n",
    "from evar.viz import plot_bin_pred_hist\n",
    "import numpy as np\n",
    "import pandas as pd"
   ]
  },
  {
   "cell_type": "code",
   "execution_count": 4,
   "id": "7f25567d",
   "metadata": {},
   "outputs": [
    {
     "name": "stdout",
     "output_type": "stream",
     "text": [
      "v.3\n"
     ]
    }
   ],
   "source": [
    "flow = EvarWorkflow()\n",
    "flow.make_estimator_var()\n",
    "var_data = flow.comp_var_data(n_splits=4)\n"
   ]
  },
  {
   "cell_type": "code",
   "execution_count": 5,
   "id": "5bf7b7c4-2e22-4eb3-a871-e87bb1dec366",
   "metadata": {},
   "outputs": [
    {
     "data": {
      "text/html": [
       "<div>\n",
       "<style scoped>\n",
       "    .dataframe tbody tr th:only-of-type {\n",
       "        vertical-align: middle;\n",
       "    }\n",
       "\n",
       "    .dataframe tbody tr th {\n",
       "        vertical-align: top;\n",
       "    }\n",
       "\n",
       "    .dataframe thead th {\n",
       "        text-align: right;\n",
       "    }\n",
       "</style>\n",
       "<table border=\"1\" class=\"dataframe\">\n",
       "  <thead>\n",
       "    <tr style=\"text-align: right;\">\n",
       "      <th></th>\n",
       "      <th>p_binid</th>\n",
       "      <th>y_score</th>\n",
       "      <th>p_estim</th>\n",
       "      <th>bin_interval</th>\n",
       "      <th>p_pred_id</th>\n",
       "      <th>y_test</th>\n",
       "    </tr>\n",
       "  </thead>\n",
       "  <tbody>\n",
       "    <tr>\n",
       "      <th>0</th>\n",
       "      <td>1</td>\n",
       "      <td>0.927701</td>\n",
       "      <td>0.928571</td>\n",
       "      <td>[0.79, 1.00]</td>\n",
       "      <td>0</td>\n",
       "      <td>1</td>\n",
       "    </tr>\n",
       "    <tr>\n",
       "      <th>1</th>\n",
       "      <td>0</td>\n",
       "      <td>0.000419</td>\n",
       "      <td>0.095238</td>\n",
       "      <td>[0.00, 0.79]</td>\n",
       "      <td>0</td>\n",
       "      <td>0</td>\n",
       "    </tr>\n",
       "    <tr>\n",
       "      <th>2</th>\n",
       "      <td>0</td>\n",
       "      <td>0.011196</td>\n",
       "      <td>0.095238</td>\n",
       "      <td>[0.00, 0.79]</td>\n",
       "      <td>0</td>\n",
       "      <td>0</td>\n",
       "    </tr>\n",
       "    <tr>\n",
       "      <th>3</th>\n",
       "      <td>1</td>\n",
       "      <td>0.997265</td>\n",
       "      <td>0.928571</td>\n",
       "      <td>[0.79, 1.00]</td>\n",
       "      <td>0</td>\n",
       "      <td>1</td>\n",
       "    </tr>\n",
       "    <tr>\n",
       "      <th>4</th>\n",
       "      <td>2</td>\n",
       "      <td>0.999752</td>\n",
       "      <td>1.000000</td>\n",
       "      <td>[1.00, 1.00]</td>\n",
       "      <td>0</td>\n",
       "      <td>1</td>\n",
       "    </tr>\n",
       "    <tr>\n",
       "      <th>...</th>\n",
       "      <td>...</td>\n",
       "      <td>...</td>\n",
       "      <td>...</td>\n",
       "      <td>...</td>\n",
       "      <td>...</td>\n",
       "      <td>...</td>\n",
       "    </tr>\n",
       "    <tr>\n",
       "      <th>183</th>\n",
       "      <td>0</td>\n",
       "      <td>0.028219</td>\n",
       "      <td>0.095238</td>\n",
       "      <td>[0.00, 0.80]</td>\n",
       "      <td>3</td>\n",
       "      <td>0</td>\n",
       "    </tr>\n",
       "    <tr>\n",
       "      <th>184</th>\n",
       "      <td>0</td>\n",
       "      <td>0.001090</td>\n",
       "      <td>0.095238</td>\n",
       "      <td>[0.00, 0.80]</td>\n",
       "      <td>3</td>\n",
       "      <td>0</td>\n",
       "    </tr>\n",
       "    <tr>\n",
       "      <th>185</th>\n",
       "      <td>0</td>\n",
       "      <td>0.043889</td>\n",
       "      <td>0.095238</td>\n",
       "      <td>[0.00, 0.80]</td>\n",
       "      <td>3</td>\n",
       "      <td>0</td>\n",
       "    </tr>\n",
       "    <tr>\n",
       "      <th>186</th>\n",
       "      <td>0</td>\n",
       "      <td>0.486310</td>\n",
       "      <td>0.095238</td>\n",
       "      <td>[0.00, 0.80]</td>\n",
       "      <td>3</td>\n",
       "      <td>1</td>\n",
       "    </tr>\n",
       "    <tr>\n",
       "      <th>187</th>\n",
       "      <td>1</td>\n",
       "      <td>0.941959</td>\n",
       "      <td>0.928571</td>\n",
       "      <td>[0.80, 1.00]</td>\n",
       "      <td>3</td>\n",
       "      <td>1</td>\n",
       "    </tr>\n",
       "  </tbody>\n",
       "</table>\n",
       "<p>751 rows × 6 columns</p>\n",
       "</div>"
      ],
      "text/plain": [
       "     p_binid   y_score   p_estim  bin_interval  p_pred_id  y_test\n",
       "0          1  0.927701  0.928571  [0.79, 1.00]          0       1\n",
       "1          0  0.000419  0.095238  [0.00, 0.79]          0       0\n",
       "2          0  0.011196  0.095238  [0.00, 0.79]          0       0\n",
       "3          1  0.997265  0.928571  [0.79, 1.00]          0       1\n",
       "4          2  0.999752  1.000000  [1.00, 1.00]          0       1\n",
       "..       ...       ...       ...           ...        ...     ...\n",
       "183        0  0.028219  0.095238  [0.00, 0.80]          3       0\n",
       "184        0  0.001090  0.095238  [0.00, 0.80]          3       0\n",
       "185        0  0.043889  0.095238  [0.00, 0.80]          3       0\n",
       "186        0  0.486310  0.095238  [0.00, 0.80]          3       1\n",
       "187        1  0.941959  0.928571  [0.80, 1.00]          3       1\n",
       "\n",
       "[751 rows x 6 columns]"
      ]
     },
     "execution_count": 5,
     "metadata": {},
     "output_type": "execute_result"
    }
   ],
   "source": [
    "df_var_data"
   ]
  },
  {
   "cell_type": "code",
   "execution_count": 6,
   "id": "cb20a82e-f987-419b-a4c6-32b07a0ec2e4",
   "metadata": {},
   "outputs": [
    {
     "ename": "NameError",
     "evalue": "name 'var_data' is not defined",
     "output_type": "error",
     "traceback": [
      "\u001b[0;31m---------------------------------------------------------------------------\u001b[0m",
      "\u001b[0;31mNameError\u001b[0m                                 Traceback (most recent call last)",
      "Cell \u001b[0;32mIn[6], line 1\u001b[0m\n\u001b[0;32m----> 1\u001b[0m \u001b[43mvar_data\u001b[49m[var_data[COLUMN_NAMES\u001b[38;5;241m.\u001b[39mbinid] \u001b[38;5;241m==\u001b[39m \u001b[38;5;241m0\u001b[39m]\n",
      "\u001b[0;31mNameError\u001b[0m: name 'var_data' is not defined"
     ]
    }
   ],
   "source": [
    "var_data[var_data[COLUMN_NAMES.binid] == 0]"
   ]
  },
  {
   "cell_type": "code",
   "execution_count": 12,
   "id": "370c3781",
   "metadata": {},
   "outputs": [
    {
     "data": {
      "image/png": "[encoded data removed]",
      "text/plain": [
       "<Figure size 640x480 with 1 Axes>"
      ]
     },
     "metadata": {},
     "output_type": "display_data"
    }
   ],
   "source": [
    "sns.barplot(s.groupby(s).count(), color='lightgreen', edgecolor='red', )\n",
    "plt.xlabel('Bin sets')\n",
    "plt.ylabel('Count')\n",
    "plt.title('A histogram of the number of unique bins the predictors put a single data point in.')\n",
    "# Display the plot\n",
    "plt.show()\n"
   ]
  },
  {
   "cell_type": "code",
   "execution_count": 14,
   "id": "a3d3bdec",
   "metadata": {},
   "outputs": [
    {
     "data": {
      "text/html": [
       "<div>\n",
       "<style scoped>\n",
       "    .dataframe tbody tr th:only-of-type {\n",
       "        vertical-align: middle;\n",
       "    }\n",
       "\n",
       "    .dataframe tbody tr th {\n",
       "        vertical-align: top;\n",
       "    }\n",
       "\n",
       "    .dataframe thead th {\n",
       "        text-align: right;\n",
       "    }\n",
       "</style>\n",
       "<table border=\"1\" class=\"dataframe\">\n",
       "  <thead>\n",
       "    <tr style=\"text-align: right;\">\n",
       "      <th></th>\n",
       "      <th>p_binid</th>\n",
       "      <th>y_score</th>\n",
       "      <th>p_estim</th>\n",
       "      <th>bin_interval</th>\n",
       "      <th>p_pred_id</th>\n",
       "      <th>y_test</th>\n",
       "    </tr>\n",
       "  </thead>\n",
       "  <tbody>\n",
       "    <tr>\n",
       "      <th>0</th>\n",
       "      <td>1</td>\n",
       "      <td>0.927701</td>\n",
       "      <td>0.928571</td>\n",
       "      <td>[0.79, 1.00]</td>\n",
       "      <td>0</td>\n",
       "      <td>0</td>\n",
       "    </tr>\n",
       "    <tr>\n",
       "      <th>1</th>\n",
       "      <td>0</td>\n",
       "      <td>0.000419</td>\n",
       "      <td>0.095238</td>\n",
       "      <td>[0.00, 0.79]</td>\n",
       "      <td>0</td>\n",
       "      <td>0</td>\n",
       "    </tr>\n",
       "    <tr>\n",
       "      <th>2</th>\n",
       "      <td>0</td>\n",
       "      <td>0.011196</td>\n",
       "      <td>0.095238</td>\n",
       "      <td>[0.00, 0.79]</td>\n",
       "      <td>0</td>\n",
       "      <td>1</td>\n",
       "    </tr>\n",
       "    <tr>\n",
       "      <th>3</th>\n",
       "      <td>1</td>\n",
       "      <td>0.997265</td>\n",
       "      <td>0.928571</td>\n",
       "      <td>[0.79, 1.00]</td>\n",
       "      <td>0</td>\n",
       "      <td>0</td>\n",
       "    </tr>\n",
       "    <tr>\n",
       "      <th>4</th>\n",
       "      <td>2</td>\n",
       "      <td>0.999752</td>\n",
       "      <td>1.000000</td>\n",
       "      <td>[1.00, 1.00]</td>\n",
       "      <td>0</td>\n",
       "      <td>0</td>\n",
       "    </tr>\n",
       "    <tr>\n",
       "      <th>...</th>\n",
       "      <td>...</td>\n",
       "      <td>...</td>\n",
       "      <td>...</td>\n",
       "      <td>...</td>\n",
       "      <td>...</td>\n",
       "      <td>...</td>\n",
       "    </tr>\n",
       "    <tr>\n",
       "      <th>183</th>\n",
       "      <td>0</td>\n",
       "      <td>0.028219</td>\n",
       "      <td>0.095238</td>\n",
       "      <td>[0.00, 0.80]</td>\n",
       "      <td>3</td>\n",
       "      <td>1</td>\n",
       "    </tr>\n",
       "    <tr>\n",
       "      <th>184</th>\n",
       "      <td>0</td>\n",
       "      <td>0.001090</td>\n",
       "      <td>0.095238</td>\n",
       "      <td>[0.00, 0.80]</td>\n",
       "      <td>3</td>\n",
       "      <td>1</td>\n",
       "    </tr>\n",
       "    <tr>\n",
       "      <th>185</th>\n",
       "      <td>0</td>\n",
       "      <td>0.043889</td>\n",
       "      <td>0.095238</td>\n",
       "      <td>[0.00, 0.80]</td>\n",
       "      <td>3</td>\n",
       "      <td>1</td>\n",
       "    </tr>\n",
       "    <tr>\n",
       "      <th>186</th>\n",
       "      <td>0</td>\n",
       "      <td>0.486310</td>\n",
       "      <td>0.095238</td>\n",
       "      <td>[0.00, 0.80]</td>\n",
       "      <td>3</td>\n",
       "      <td>1</td>\n",
       "    </tr>\n",
       "    <tr>\n",
       "      <th>187</th>\n",
       "      <td>1</td>\n",
       "      <td>0.941959</td>\n",
       "      <td>0.928571</td>\n",
       "      <td>[0.80, 1.00]</td>\n",
       "      <td>3</td>\n",
       "      <td>0</td>\n",
       "    </tr>\n",
       "  </tbody>\n",
       "</table>\n",
       "<p>751 rows × 6 columns</p>\n",
       "</div>"
      ],
      "text/plain": [
       "     p_binid   y_score   p_estim  bin_interval  p_pred_id  y_test\n",
       "0          1  0.927701  0.928571  [0.79, 1.00]          0       0\n",
       "1          0  0.000419  0.095238  [0.00, 0.79]          0       0\n",
       "2          0  0.011196  0.095238  [0.00, 0.79]          0       1\n",
       "3          1  0.997265  0.928571  [0.79, 1.00]          0       0\n",
       "4          2  0.999752  1.000000  [1.00, 1.00]          0       0\n",
       "..       ...       ...       ...           ...        ...     ...\n",
       "183        0  0.028219  0.095238  [0.00, 0.80]          3       1\n",
       "184        0  0.001090  0.095238  [0.00, 0.80]          3       1\n",
       "185        0  0.043889  0.095238  [0.00, 0.80]          3       1\n",
       "186        0  0.486310  0.095238  [0.00, 0.80]          3       1\n",
       "187        1  0.941959  0.928571  [0.80, 1.00]          3       0\n",
       "\n",
       "[751 rows x 6 columns]"
      ]
     },
     "execution_count": 14,
     "metadata": {},
     "output_type": "execute_result"
    }
   ],
   "source": [
    "df_var_data"
   ]
  },
  {
   "cell_type": "code",
   "execution_count": 84,
   "id": "dbbf77e7",
   "metadata": {},
   "outputs": [],
   "source": [
    "df_binid_pred_id_groups = df_var_data.groupby(by=[COLUMN_NAMES.binid, COLUMN_NAMES.p_predid])[[COLUMN_NAMES.y_score, COLUMN_NAMES.p_estim, COLUMN_NAMES.y_test]].mean()"
   ]
  },
  {
   "cell_type": "code",
   "execution_count": 85,
   "id": "1b1c4798-0d89-46ec-80b0-a6c86ead1bb1",
   "metadata": {},
   "outputs": [
    {
     "data": {
      "text/html": [
       "<div>\n",
       "<style scoped>\n",
       "    .dataframe tbody tr th:only-of-type {\n",
       "        vertical-align: middle;\n",
       "    }\n",
       "\n",
       "    .dataframe tbody tr th {\n",
       "        vertical-align: top;\n",
       "    }\n",
       "\n",
       "    .dataframe thead th {\n",
       "        text-align: right;\n",
       "    }\n",
       "</style>\n",
       "<table border=\"1\" class=\"dataframe\">\n",
       "  <thead>\n",
       "    <tr style=\"text-align: right;\">\n",
       "      <th></th>\n",
       "      <th></th>\n",
       "      <th>y_score</th>\n",
       "      <th>p_estim</th>\n",
       "      <th>y_test</th>\n",
       "    </tr>\n",
       "    <tr>\n",
       "      <th>p_binid</th>\n",
       "      <th>p_pred_id</th>\n",
       "      <th></th>\n",
       "      <th></th>\n",
       "      <th></th>\n",
       "    </tr>\n",
       "  </thead>\n",
       "  <tbody>\n",
       "    <tr>\n",
       "      <th rowspan=\"4\" valign=\"top\">0</th>\n",
       "      <th>0</th>\n",
       "      <td>0.107187</td>\n",
       "      <td>0.095238</td>\n",
       "      <td>0.120000</td>\n",
       "    </tr>\n",
       "    <tr>\n",
       "      <th>1</th>\n",
       "      <td>0.165017</td>\n",
       "      <td>0.095238</td>\n",
       "      <td>0.164557</td>\n",
       "    </tr>\n",
       "    <tr>\n",
       "      <th>2</th>\n",
       "      <td>0.158535</td>\n",
       "      <td>0.095238</td>\n",
       "      <td>0.153846</td>\n",
       "    </tr>\n",
       "    <tr>\n",
       "      <th>3</th>\n",
       "      <td>0.114158</td>\n",
       "      <td>0.095238</td>\n",
       "      <td>0.131579</td>\n",
       "    </tr>\n",
       "    <tr>\n",
       "      <th rowspan=\"4\" valign=\"top\">1</th>\n",
       "      <th>0</th>\n",
       "      <td>0.978872</td>\n",
       "      <td>0.928571</td>\n",
       "      <td>0.986667</td>\n",
       "    </tr>\n",
       "    <tr>\n",
       "      <th>1</th>\n",
       "      <td>0.980059</td>\n",
       "      <td>0.928571</td>\n",
       "      <td>0.986111</td>\n",
       "    </tr>\n",
       "    <tr>\n",
       "      <th>2</th>\n",
       "      <td>0.975371</td>\n",
       "      <td>0.928571</td>\n",
       "      <td>0.985507</td>\n",
       "    </tr>\n",
       "    <tr>\n",
       "      <th>3</th>\n",
       "      <td>0.963937</td>\n",
       "      <td>0.928571</td>\n",
       "      <td>0.985507</td>\n",
       "    </tr>\n",
       "    <tr>\n",
       "      <th rowspan=\"4\" valign=\"top\">2</th>\n",
       "      <th>0</th>\n",
       "      <td>0.999853</td>\n",
       "      <td>1.000000</td>\n",
       "      <td>1.000000</td>\n",
       "    </tr>\n",
       "    <tr>\n",
       "      <th>1</th>\n",
       "      <td>0.999625</td>\n",
       "      <td>1.000000</td>\n",
       "      <td>1.000000</td>\n",
       "    </tr>\n",
       "    <tr>\n",
       "      <th>2</th>\n",
       "      <td>0.999389</td>\n",
       "      <td>1.000000</td>\n",
       "      <td>1.000000</td>\n",
       "    </tr>\n",
       "    <tr>\n",
       "      <th>3</th>\n",
       "      <td>0.999174</td>\n",
       "      <td>1.000000</td>\n",
       "      <td>1.000000</td>\n",
       "    </tr>\n",
       "  </tbody>\n",
       "</table>\n",
       "</div>"
      ],
      "text/plain": [
       "                    y_score   p_estim    y_test\n",
       "p_binid p_pred_id                              \n",
       "0       0          0.107187  0.095238  0.120000\n",
       "        1          0.165017  0.095238  0.164557\n",
       "        2          0.158535  0.095238  0.153846\n",
       "        3          0.114158  0.095238  0.131579\n",
       "1       0          0.978872  0.928571  0.986667\n",
       "        1          0.980059  0.928571  0.986111\n",
       "        2          0.975371  0.928571  0.985507\n",
       "        3          0.963937  0.928571  0.985507\n",
       "2       0          0.999853  1.000000  1.000000\n",
       "        1          0.999625  1.000000  1.000000\n",
       "        2          0.999389  1.000000  1.000000\n",
       "        3          0.999174  1.000000  1.000000"
      ]
     },
     "execution_count": 85,
     "metadata": {},
     "output_type": "execute_result"
    }
   ],
   "source": [
    "df_binid_pred_id_groups[[]]"
   ]
  },
  {
   "cell_type": "code",
   "execution_count": 86,
   "id": "85a93311-ca61-485f-98c9-a3fa6916c18e",
   "metadata": {},
   "outputs": [
    {
     "data": {
      "text/plain": [
       "y_score    0.107187\n",
       "p_estim    0.095238\n",
       "y_test     0.120000\n",
       "Name: (0, 0), dtype: float64"
      ]
     },
     "execution_count": 86,
     "metadata": {},
     "output_type": "execute_result"
    }
   ],
   "source": [
    "df_binid_pred_id_groups.loc[0, 0]"
   ]
  },
  {
   "cell_type": "code",
   "execution_count": 24,
   "id": "42ff9ebd-ad37-49d1-896f-ec74448fa721",
   "metadata": {},
   "outputs": [
    {
     "data": {
      "application/vnd.microsoft.datawrangler.viewer.v0+json": {
       "columns": [
        {
         "name": "index",
         "rawType": "int64",
         "type": "integer"
        },
        {
         "name": "binid",
         "rawType": "int64",
         "type": "integer"
        },
        {
         "name": "y_score",
         "rawType": "float64",
         "type": "float"
        },
        {
         "name": "p_estim",
         "rawType": "float64",
         "type": "float"
        },
        {
         "name": "bin_interval",
         "rawType": "object",
         "type": "string"
        },
        {
         "name": "pred_id",
         "rawType": "int64",
         "type": "integer"
        },
        {
         "name": "y_test",
         "rawType": "int64",
         "type": "integer"
        }
       ],
       "conversionMethod": "pd.DataFrame",
       "ref": "c8a882a1-4d60-4353-8aa1-50d605c1c52b",
       "rows": [
        [
         "0",
         "0",
         "0.11285262684085173",
         "0.021052631578947368",
         "[0.00, 0.22]",
         "0",
         "1"
        ],
        [
         "3",
         "0",
         "0.0014176557762086706",
         "0.021052631578947368",
         "[0.00, 0.22]",
         "0",
         "1"
        ],
        [
         "4",
         "0",
         "0.0001707095552945237",
         "0.021052631578947368",
         "[0.00, 0.22]",
         "0",
         "1"
        ],
        [
         "9",
         "0",
         "0.0027729246384821105",
         "0.021052631578947368",
         "[0.00, 0.22]",
         "0",
         "1"
        ],
        [
         "10",
         "0",
         "0.07334170121534711",
         "0.021052631578947368",
         "[0.00, 0.22]",
         "0",
         "1"
        ],
        [
         "12",
         "0",
         "0.010866747495184126",
         "0.021052631578947368",
         "[0.00, 0.22]",
         "0",
         "1"
        ],
        [
         "14",
         "0",
         "0.00554979413533363",
         "0.021052631578947368",
         "[0.00, 0.22]",
         "0",
         "1"
        ],
        [
         "16",
         "0",
         "0.004944901742777952",
         "0.021052631578947368",
         "[0.00, 0.22]",
         "0",
         "1"
        ],
        [
         "17",
         "0",
         "1.6793665775782785e-05",
         "0.021052631578947368",
         "[0.00, 0.22]",
         "0",
         "1"
        ],
        [
         "18",
         "0",
         "9.985282677371643e-07",
         "0.021052631578947368",
         "[0.00, 0.22]",
         "0",
         "1"
        ],
        [
         "20",
         "0",
         "0.08412073891947847",
         "0.021052631578947368",
         "[0.00, 0.22]",
         "0",
         "0"
        ],
        [
         "21",
         "0",
         "0.01292925226131969",
         "0.021052631578947368",
         "[0.00, 0.22]",
         "0",
         "1"
        ],
        [
         "23",
         "0",
         "9.553056271638383e-05",
         "0.021052631578947368",
         "[0.00, 0.22]",
         "0",
         "1"
        ],
        [
         "24",
         "0",
         "0.0030675931541170876",
         "0.021052631578947368",
         "[0.00, 0.22]",
         "0",
         "1"
        ],
        [
         "25",
         "0",
         "0.0009873478649388145",
         "0.021052631578947368",
         "[0.00, 0.22]",
         "0",
         "1"
        ],
        [
         "26",
         "0",
         "0.0037947803608955333",
         "0.021052631578947368",
         "[0.00, 0.22]",
         "0",
         "1"
        ],
        [
         "27",
         "0",
         "0.013019194368551146",
         "0.021052631578947368",
         "[0.00, 0.22]",
         "0",
         "1"
        ],
        [
         "28",
         "0",
         "0.00491672837789725",
         "0.021052631578947368",
         "[0.00, 0.22]",
         "0",
         "1"
        ],
        [
         "30",
         "0",
         "0.0012406876526954713",
         "0.021052631578947368",
         "[0.00, 0.22]",
         "0",
         "1"
        ],
        [
         "31",
         "0",
         "0.00033758177308051973",
         "0.021052631578947368",
         "[0.00, 0.22]",
         "0",
         "1"
        ],
        [
         "32",
         "0",
         "0.0008833190881333275",
         "0.021052631578947368",
         "[0.00, 0.22]",
         "0",
         "1"
        ],
        [
         "33",
         "0",
         "0.0092584936241622",
         "0.021052631578947368",
         "[0.00, 0.22]",
         "0",
         "1"
        ],
        [
         "34",
         "0",
         "0.0002417828632260699",
         "0.021052631578947368",
         "[0.00, 0.22]",
         "0",
         "1"
        ],
        [
         "35",
         "0",
         "0.00489701788798147",
         "0.021052631578947368",
         "[0.00, 0.22]",
         "0",
         "1"
        ],
        [
         "37",
         "0",
         "0.001899605661654702",
         "0.021052631578947368",
         "[0.00, 0.22]",
         "0",
         "1"
        ],
        [
         "39",
         "0",
         "0.04068926615043256",
         "0.021052631578947368",
         "[0.00, 0.22]",
         "0",
         "1"
        ],
        [
         "40",
         "0",
         "0.00014621914120871438",
         "0.021052631578947368",
         "[0.00, 0.22]",
         "0",
         "1"
        ],
        [
         "42",
         "0",
         "0.00533351328614684",
         "0.021052631578947368",
         "[0.00, 0.22]",
         "0",
         "1"
        ],
        [
         "43",
         "0",
         "0.0020831828585705647",
         "0.021052631578947368",
         "[0.00, 0.22]",
         "0",
         "1"
        ],
        [
         "44",
         "0",
         "0.0030161939582207253",
         "0.021052631578947368",
         "[0.00, 0.22]",
         "0",
         "1"
        ],
        [
         "45",
         "0",
         "0.1287501799272518",
         "0.021052631578947368",
         "[0.00, 0.22]",
         "0",
         "1"
        ],
        [
         "46",
         "0",
         "0.0008210886148405372",
         "0.021052631578947368",
         "[0.00, 0.22]",
         "0",
         "1"
        ],
        [
         "47",
         "0",
         "0.0001385599502083945",
         "0.021052631578947368",
         "[0.00, 0.22]",
         "0",
         "1"
        ],
        [
         "48",
         "0",
         "0.06320839818919255",
         "0.021052631578947368",
         "[0.00, 0.22]",
         "0",
         "1"
        ],
        [
         "49",
         "0",
         "0.0013191315951703864",
         "0.021052631578947368",
         "[0.00, 0.22]",
         "0",
         "1"
        ],
        [
         "53",
         "0",
         "0.0026531599867850586",
         "0.021052631578947368",
         "[0.00, 0.22]",
         "0",
         "1"
        ],
        [
         "54",
         "0",
         "6.883895524922856e-05",
         "0.021052631578947368",
         "[0.00, 0.22]",
         "0",
         "1"
        ],
        [
         "55",
         "0",
         "0.02574628885349517",
         "0.021052631578947368",
         "[0.00, 0.22]",
         "0",
         "1"
        ],
        [
         "56",
         "0",
         "0.00020562313730509985",
         "0.021052631578947368",
         "[0.00, 0.22]",
         "0",
         "1"
        ],
        [
         "59",
         "0",
         "0.00041183257923094185",
         "0.021052631578947368",
         "[0.00, 0.22]",
         "0",
         "1"
        ],
        [
         "60",
         "0",
         "0.007427254349703261",
         "0.021052631578947368",
         "[0.00, 0.22]",
         "0",
         "1"
        ],
        [
         "63",
         "0",
         "0.07491335363188023",
         "0.021052631578947368",
         "[0.00, 0.22]",
         "0",
         "1"
        ],
        [
         "64",
         "0",
         "0.001303599644288389",
         "0.021052631578947368",
         "[0.00, 0.22]",
         "0",
         "1"
        ],
        [
         "65",
         "0",
         "0.1860068088410164",
         "0.021052631578947368",
         "[0.00, 0.22]",
         "0",
         "1"
        ],
        [
         "68",
         "0",
         "0.001668498010044317",
         "0.021052631578947368",
         "[0.00, 0.22]",
         "0",
         "1"
        ],
        [
         "69",
         "0",
         "0.0615488532115277",
         "0.021052631578947368",
         "[0.00, 0.22]",
         "0",
         "1"
        ],
        [
         "72",
         "0",
         "0.004096384780927442",
         "0.021052631578947368",
         "[0.00, 0.22]",
         "0",
         "1"
        ],
        [
         "74",
         "0",
         "9.671011506695582e-05",
         "0.021052631578947368",
         "[0.00, 0.22]",
         "0",
         "1"
        ],
        [
         "75",
         "0",
         "0.0219340562127478",
         "0.021052631578947368",
         "[0.00, 0.22]",
         "0",
         "1"
        ],
        [
         "76",
         "0",
         "0.019970264630810974",
         "0.021052631578947368",
         "[0.00, 0.22]",
         "0",
         "1"
        ]
       ],
       "shape": {
        "columns": 6,
        "rows": 114
       }
      },
      "text/html": [
       "<div>\n",
       "<style scoped>\n",
       "    .dataframe tbody tr th:only-of-type {\n",
       "        vertical-align: middle;\n",
       "    }\n",
       "\n",
       "    .dataframe tbody tr th {\n",
       "        vertical-align: top;\n",
       "    }\n",
       "\n",
       "    .dataframe thead th {\n",
       "        text-align: right;\n",
       "    }\n",
       "</style>\n",
       "<table border=\"1\" class=\"dataframe\">\n",
       "  <thead>\n",
       "    <tr style=\"text-align: right;\">\n",
       "      <th></th>\n",
       "      <th>binid</th>\n",
       "      <th>y_score</th>\n",
       "      <th>p_estim</th>\n",
       "      <th>bin_interval</th>\n",
       "      <th>pred_id</th>\n",
       "      <th>y_test</th>\n",
       "    </tr>\n",
       "  </thead>\n",
       "  <tbody>\n",
       "    <tr>\n",
       "      <th>0</th>\n",
       "      <td>0</td>\n",
       "      <td>0.112853</td>\n",
       "      <td>0.021053</td>\n",
       "      <td>[0.00, 0.22]</td>\n",
       "      <td>0</td>\n",
       "      <td>1</td>\n",
       "    </tr>\n",
       "    <tr>\n",
       "      <th>3</th>\n",
       "      <td>0</td>\n",
       "      <td>0.001418</td>\n",
       "      <td>0.021053</td>\n",
       "      <td>[0.00, 0.22]</td>\n",
       "      <td>0</td>\n",
       "      <td>1</td>\n",
       "    </tr>\n",
       "    <tr>\n",
       "      <th>4</th>\n",
       "      <td>0</td>\n",
       "      <td>0.000171</td>\n",
       "      <td>0.021053</td>\n",
       "      <td>[0.00, 0.22]</td>\n",
       "      <td>0</td>\n",
       "      <td>1</td>\n",
       "    </tr>\n",
       "    <tr>\n",
       "      <th>9</th>\n",
       "      <td>0</td>\n",
       "      <td>0.002773</td>\n",
       "      <td>0.021053</td>\n",
       "      <td>[0.00, 0.22]</td>\n",
       "      <td>0</td>\n",
       "      <td>1</td>\n",
       "    </tr>\n",
       "    <tr>\n",
       "      <th>10</th>\n",
       "      <td>0</td>\n",
       "      <td>0.073342</td>\n",
       "      <td>0.021053</td>\n",
       "      <td>[0.00, 0.22]</td>\n",
       "      <td>0</td>\n",
       "      <td>1</td>\n",
       "    </tr>\n",
       "    <tr>\n",
       "      <th>...</th>\n",
       "      <td>...</td>\n",
       "      <td>...</td>\n",
       "      <td>...</td>\n",
       "      <td>...</td>\n",
       "      <td>...</td>\n",
       "      <td>...</td>\n",
       "    </tr>\n",
       "    <tr>\n",
       "      <th>179</th>\n",
       "      <td>0</td>\n",
       "      <td>0.016559</td>\n",
       "      <td>0.021053</td>\n",
       "      <td>[0.00, 0.22]</td>\n",
       "      <td>0</td>\n",
       "      <td>1</td>\n",
       "    </tr>\n",
       "    <tr>\n",
       "      <th>180</th>\n",
       "      <td>0</td>\n",
       "      <td>0.076929</td>\n",
       "      <td>0.021053</td>\n",
       "      <td>[0.00, 0.22]</td>\n",
       "      <td>0</td>\n",
       "      <td>1</td>\n",
       "    </tr>\n",
       "    <tr>\n",
       "      <th>181</th>\n",
       "      <td>0</td>\n",
       "      <td>0.088668</td>\n",
       "      <td>0.021053</td>\n",
       "      <td>[0.00, 0.22]</td>\n",
       "      <td>0</td>\n",
       "      <td>1</td>\n",
       "    </tr>\n",
       "    <tr>\n",
       "      <th>182</th>\n",
       "      <td>0</td>\n",
       "      <td>0.000627</td>\n",
       "      <td>0.021053</td>\n",
       "      <td>[0.00, 0.22]</td>\n",
       "      <td>0</td>\n",
       "      <td>1</td>\n",
       "    </tr>\n",
       "    <tr>\n",
       "      <th>187</th>\n",
       "      <td>0</td>\n",
       "      <td>0.141765</td>\n",
       "      <td>0.021053</td>\n",
       "      <td>[0.00, 0.22]</td>\n",
       "      <td>0</td>\n",
       "      <td>1</td>\n",
       "    </tr>\n",
       "  </tbody>\n",
       "</table>\n",
       "<p>114 rows × 6 columns</p>\n",
       "</div>"
      ],
      "text/plain": [
       "     binid   y_score   p_estim  bin_interval  pred_id  y_test\n",
       "0        0  0.112853  0.021053  [0.00, 0.22]        0       1\n",
       "3        0  0.001418  0.021053  [0.00, 0.22]        0       1\n",
       "4        0  0.000171  0.021053  [0.00, 0.22]        0       1\n",
       "9        0  0.002773  0.021053  [0.00, 0.22]        0       1\n",
       "10       0  0.073342  0.021053  [0.00, 0.22]        0       1\n",
       "..     ...       ...       ...           ...      ...     ...\n",
       "179      0  0.016559  0.021053  [0.00, 0.22]        0       1\n",
       "180      0  0.076929  0.021053  [0.00, 0.22]        0       1\n",
       "181      0  0.088668  0.021053  [0.00, 0.22]        0       1\n",
       "182      0  0.000627  0.021053  [0.00, 0.22]        0       1\n",
       "187      0  0.141765  0.021053  [0.00, 0.22]        0       1\n",
       "\n",
       "[114 rows x 6 columns]"
      ]
     },
     "execution_count": 24,
     "metadata": {},
     "output_type": "execute_result"
    }
   ],
   "source": [
    "df_var_data[(df_var_data.binid == 0) & (df_var_data.pred_id==0)]"
   ]
  },
  {
   "cell_type": "code",
   "execution_count": 9,
   "id": "86c22c7b-e116-4332-a934-6fbd4d1556b3",
   "metadata": {},
   "outputs": [],
   "source": [
    "df_var_data[\"point_wisw_var\"] = df_var_data.groupby(level=0)[\"p_estim\"].var(ddof=0)"
   ]
  },
  {
   "cell_type": "code",
   "execution_count": 12,
   "id": "edd72db9",
   "metadata": {},
   "outputs": [
    {
     "data": {
      "application/vnd.microsoft.datawrangler.viewer.v0+json": {
       "columns": [
        {
         "name": "index",
         "rawType": "int64",
         "type": "integer"
        },
        {
         "name": "binid",
         "rawType": "int64",
         "type": "integer"
        },
        {
         "name": "y_score",
         "rawType": "float64",
         "type": "float"
        },
        {
         "name": "p_estim",
         "rawType": "float64",
         "type": "float"
        },
        {
         "name": "bin_interval",
         "rawType": "object",
         "type": "string"
        },
        {
         "name": "pred_id",
         "rawType": "int64",
         "type": "integer"
        },
        {
         "name": "point_wisw_var",
         "rawType": "float64",
         "type": "float"
        }
       ],
       "conversionMethod": "pd.DataFrame",
       "ref": "ed732033-e6d3-48d0-931a-94e60dcedc64",
       "rows": [
        [
         "0",
         "0",
         "0.11285262684085173",
         "0.021052631578947368",
         "[0.00, 0.22]",
         "0",
         "7.617728531855956e-05"
        ],
        [
         "1",
         "2",
         "0.999833520132164",
         "1.0",
         "[1.00, 1.00]",
         "0",
         "0.0"
        ],
        [
         "2",
         "1",
         "0.9931002406468789",
         "0.9473684210526315",
         "[0.22, 1.00]",
         "0",
         "7.617728531856004e-05"
        ],
        [
         "3",
         "0",
         "0.0014176557762086706",
         "0.021052631578947368",
         "[0.00, 0.22]",
         "0",
         "7.617728531855956e-05"
        ],
        [
         "4",
         "0",
         "0.0001707095552945237",
         "0.021052631578947368",
         "[0.00, 0.22]",
         "0",
         "7.617728531855956e-05"
        ],
        [
         "6",
         "2",
         "0.9999998406276226",
         "1.0",
         "[1.00, 1.00]",
         "0",
         "0.0"
        ],
        [
         "7",
         "1",
         "0.8829188062539655",
         "0.9473684210526315",
         "[0.22, 1.00]",
         "0",
         "7.617728531856004e-05"
        ],
        [
         "8",
         "1",
         "0.5366820838592352",
         "0.9473684210526315",
         "[0.22, 1.00]",
         "0",
         "7.617728531856004e-05"
        ],
        [
         "9",
         "0",
         "0.0027729246384821105",
         "0.021052631578947368",
         "[0.00, 0.22]",
         "0",
         "7.617728531855956e-05"
        ],
        [
         "10",
         "0",
         "0.07334170121534711",
         "0.021052631578947368",
         "[0.00, 0.22]",
         "0",
         "7.617728531855956e-05"
        ],
        [
         "11",
         "1",
         "0.9601139670463213",
         "0.9473684210526315",
         "[0.22, 1.00]",
         "0",
         "7.617728531856004e-05"
        ],
        [
         "12",
         "0",
         "0.010866747495184126",
         "0.021052631578947368",
         "[0.00, 0.22]",
         "0",
         "7.617728531855956e-05"
        ],
        [
         "13",
         "1",
         "0.7677200459706615",
         "0.9473684210526315",
         "[0.22, 1.00]",
         "0",
         "7.617728531856004e-05"
        ],
        [
         "14",
         "0",
         "0.00554979413533363",
         "0.021052631578947368",
         "[0.00, 0.22]",
         "0",
         "7.617728531855956e-05"
        ],
        [
         "15",
         "1",
         "0.9910468337988383",
         "0.9473684210526315",
         "[0.22, 1.00]",
         "0",
         "0.00047091412742382346"
        ],
        [
         "16",
         "0",
         "0.004944901742777952",
         "0.021052631578947368",
         "[0.00, 0.22]",
         "0",
         "7.617728531855956e-05"
        ],
        [
         "17",
         "0",
         "1.6793665775782785e-05",
         "0.021052631578947368",
         "[0.00, 0.22]",
         "0",
         "7.617728531855956e-05"
        ],
        [
         "18",
         "0",
         "9.985282677371643e-07",
         "0.021052631578947368",
         "[0.00, 0.22]",
         "0",
         "7.617728531855956e-05"
        ],
        [
         "19",
         "2",
         "0.9999874833457051",
         "1.0",
         "[1.00, 1.00]",
         "0",
         "0.0"
        ],
        [
         "20",
         "0",
         "0.08412073891947847",
         "0.021052631578947368",
         "[0.00, 0.22]",
         "0",
         "7.617728531855956e-05"
        ],
        [
         "21",
         "0",
         "0.01292925226131969",
         "0.021052631578947368",
         "[0.00, 0.22]",
         "0",
         "7.617728531855956e-05"
        ],
        [
         "22",
         "2",
         "0.9999999516609237",
         "1.0",
         "[1.00, 1.00]",
         "0",
         "0.0"
        ],
        [
         "23",
         "0",
         "9.553056271638383e-05",
         "0.021052631578947368",
         "[0.00, 0.22]",
         "0",
         "7.617728531855956e-05"
        ],
        [
         "24",
         "0",
         "0.0030675931541170876",
         "0.021052631578947368",
         "[0.00, 0.22]",
         "0",
         "7.617728531855956e-05"
        ],
        [
         "25",
         "0",
         "0.0009873478649388145",
         "0.021052631578947368",
         "[0.00, 0.22]",
         "0",
         "7.617728531855956e-05"
        ],
        [
         "26",
         "0",
         "0.0037947803608955333",
         "0.021052631578947368",
         "[0.00, 0.22]",
         "0",
         "7.617728531855956e-05"
        ],
        [
         "27",
         "0",
         "0.013019194368551146",
         "0.021052631578947368",
         "[0.00, 0.22]",
         "0",
         "7.617728531855956e-05"
        ],
        [
         "28",
         "0",
         "0.00491672837789725",
         "0.021052631578947368",
         "[0.00, 0.22]",
         "0",
         "7.617728531855956e-05"
        ],
        [
         "29",
         "2",
         "0.9999702940858923",
         "1.0",
         "[1.00, 1.00]",
         "0",
         "0.0"
        ],
        [
         "30",
         "0",
         "0.0012406876526954713",
         "0.021052631578947368",
         "[0.00, 0.22]",
         "0",
         "7.617728531855956e-05"
        ],
        [
         "31",
         "0",
         "0.00033758177308051973",
         "0.021052631578947368",
         "[0.00, 0.22]",
         "0",
         "7.617728531855956e-05"
        ],
        [
         "32",
         "0",
         "0.0008833190881333275",
         "0.021052631578947368",
         "[0.00, 0.22]",
         "0",
         "7.617728531855956e-05"
        ],
        [
         "33",
         "0",
         "0.0092584936241622",
         "0.021052631578947368",
         "[0.00, 0.22]",
         "0",
         "7.617728531855956e-05"
        ],
        [
         "34",
         "0",
         "0.0002417828632260699",
         "0.021052631578947368",
         "[0.00, 0.22]",
         "0",
         "7.617728531855956e-05"
        ],
        [
         "35",
         "0",
         "0.00489701788798147",
         "0.021052631578947368",
         "[0.00, 0.22]",
         "0",
         "7.617728531855956e-05"
        ],
        [
         "36",
         "1",
         "0.8855146608391504",
         "0.9473684210526315",
         "[0.22, 1.00]",
         "0",
         "7.617728531856004e-05"
        ],
        [
         "37",
         "0",
         "0.001899605661654702",
         "0.021052631578947368",
         "[0.00, 0.22]",
         "0",
         "7.617728531855956e-05"
        ],
        [
         "38",
         "2",
         "0.9998030903418679",
         "1.0",
         "[1.00, 1.00]",
         "0",
         "0.0"
        ],
        [
         "39",
         "0",
         "0.04068926615043256",
         "0.021052631578947368",
         "[0.00, 0.22]",
         "0",
         "7.617728531855956e-05"
        ],
        [
         "40",
         "0",
         "0.00014621914120871438",
         "0.021052631578947368",
         "[0.00, 0.22]",
         "0",
         "7.617728531855956e-05"
        ],
        [
         "41",
         "2",
         "0.9977821037367024",
         "1.0",
         "[1.00, 1.00]",
         "0",
         "0.0"
        ],
        [
         "42",
         "0",
         "0.00533351328614684",
         "0.021052631578947368",
         "[0.00, 0.22]",
         "0",
         "7.617728531855956e-05"
        ],
        [
         "43",
         "0",
         "0.0020831828585705647",
         "0.021052631578947368",
         "[0.00, 0.22]",
         "0",
         "7.617728531855956e-05"
        ],
        [
         "44",
         "0",
         "0.0030161939582207253",
         "0.021052631578947368",
         "[0.00, 0.22]",
         "0",
         "7.617728531855956e-05"
        ],
        [
         "45",
         "0",
         "0.1287501799272518",
         "0.021052631578947368",
         "[0.00, 0.22]",
         "0",
         "7.617728531855956e-05"
        ],
        [
         "46",
         "0",
         "0.0008210886148405372",
         "0.021052631578947368",
         "[0.00, 0.22]",
         "0",
         "7.617728531855956e-05"
        ],
        [
         "47",
         "0",
         "0.0001385599502083945",
         "0.021052631578947368",
         "[0.00, 0.22]",
         "0",
         "7.617728531855956e-05"
        ],
        [
         "48",
         "0",
         "0.06320839818919255",
         "0.021052631578947368",
         "[0.00, 0.22]",
         "0",
         "7.617728531855956e-05"
        ],
        [
         "49",
         "0",
         "0.0013191315951703864",
         "0.021052631578947368",
         "[0.00, 0.22]",
         "0",
         "7.617728531855956e-05"
        ],
        [
         "50",
         "2",
         "0.9998398135381713",
         "1.0",
         "[1.00, 1.00]",
         "0",
         "0.0"
        ]
       ],
       "shape": {
        "columns": 6,
        "rows": 701
       }
      },
      "text/html": [
       "<div>\n",
       "<style scoped>\n",
       "    .dataframe tbody tr th:only-of-type {\n",
       "        vertical-align: middle;\n",
       "    }\n",
       "\n",
       "    .dataframe tbody tr th {\n",
       "        vertical-align: top;\n",
       "    }\n",
       "\n",
       "    .dataframe thead th {\n",
       "        text-align: right;\n",
       "    }\n",
       "</style>\n",
       "<table border=\"1\" class=\"dataframe\">\n",
       "  <thead>\n",
       "    <tr style=\"text-align: right;\">\n",
       "      <th></th>\n",
       "      <th>binid</th>\n",
       "      <th>y_score</th>\n",
       "      <th>p_estim</th>\n",
       "      <th>bin_interval</th>\n",
       "      <th>pred_id</th>\n",
       "      <th>point_wisw_var</th>\n",
       "    </tr>\n",
       "  </thead>\n",
       "  <tbody>\n",
       "    <tr>\n",
       "      <th>0</th>\n",
       "      <td>0</td>\n",
       "      <td>0.112853</td>\n",
       "      <td>0.021053</td>\n",
       "      <td>[0.00, 0.22]</td>\n",
       "      <td>0</td>\n",
       "      <td>0.000076</td>\n",
       "    </tr>\n",
       "    <tr>\n",
       "      <th>1</th>\n",
       "      <td>2</td>\n",
       "      <td>0.999834</td>\n",
       "      <td>1.000000</td>\n",
       "      <td>[1.00, 1.00]</td>\n",
       "      <td>0</td>\n",
       "      <td>0.000000</td>\n",
       "    </tr>\n",
       "    <tr>\n",
       "      <th>2</th>\n",
       "      <td>1</td>\n",
       "      <td>0.993100</td>\n",
       "      <td>0.947368</td>\n",
       "      <td>[0.22, 1.00]</td>\n",
       "      <td>0</td>\n",
       "      <td>0.000076</td>\n",
       "    </tr>\n",
       "    <tr>\n",
       "      <th>3</th>\n",
       "      <td>0</td>\n",
       "      <td>0.001418</td>\n",
       "      <td>0.021053</td>\n",
       "      <td>[0.00, 0.22]</td>\n",
       "      <td>0</td>\n",
       "      <td>0.000076</td>\n",
       "    </tr>\n",
       "    <tr>\n",
       "      <th>4</th>\n",
       "      <td>0</td>\n",
       "      <td>0.000171</td>\n",
       "      <td>0.021053</td>\n",
       "      <td>[0.00, 0.22]</td>\n",
       "      <td>0</td>\n",
       "      <td>0.000076</td>\n",
       "    </tr>\n",
       "    <tr>\n",
       "      <th>...</th>\n",
       "      <td>...</td>\n",
       "      <td>...</td>\n",
       "      <td>...</td>\n",
       "      <td>...</td>\n",
       "      <td>...</td>\n",
       "      <td>...</td>\n",
       "    </tr>\n",
       "    <tr>\n",
       "      <th>183</th>\n",
       "      <td>1</td>\n",
       "      <td>0.972605</td>\n",
       "      <td>0.947368</td>\n",
       "      <td>[0.41, 0.99]</td>\n",
       "      <td>3</td>\n",
       "      <td>0.000076</td>\n",
       "    </tr>\n",
       "    <tr>\n",
       "      <th>184</th>\n",
       "      <td>2</td>\n",
       "      <td>0.998484</td>\n",
       "      <td>1.000000</td>\n",
       "      <td>[0.99, 1.00]</td>\n",
       "      <td>3</td>\n",
       "      <td>0.000000</td>\n",
       "    </tr>\n",
       "    <tr>\n",
       "      <th>185</th>\n",
       "      <td>1</td>\n",
       "      <td>0.921229</td>\n",
       "      <td>0.947368</td>\n",
       "      <td>[0.41, 0.99]</td>\n",
       "      <td>3</td>\n",
       "      <td>0.000076</td>\n",
       "    </tr>\n",
       "    <tr>\n",
       "      <th>186</th>\n",
       "      <td>1</td>\n",
       "      <td>0.440322</td>\n",
       "      <td>0.947368</td>\n",
       "      <td>[0.41, 0.99]</td>\n",
       "      <td>3</td>\n",
       "      <td>0.000076</td>\n",
       "    </tr>\n",
       "    <tr>\n",
       "      <th>187</th>\n",
       "      <td>0</td>\n",
       "      <td>0.150917</td>\n",
       "      <td>0.021053</td>\n",
       "      <td>[0.00, 0.41]</td>\n",
       "      <td>3</td>\n",
       "      <td>0.000076</td>\n",
       "    </tr>\n",
       "  </tbody>\n",
       "</table>\n",
       "<p>701 rows × 6 columns</p>\n",
       "</div>"
      ],
      "text/plain": [
       "     binid   y_score   p_estim  bin_interval  pred_id  point_wisw_var\n",
       "0        0  0.112853  0.021053  [0.00, 0.22]        0        0.000076\n",
       "1        2  0.999834  1.000000  [1.00, 1.00]        0        0.000000\n",
       "2        1  0.993100  0.947368  [0.22, 1.00]        0        0.000076\n",
       "3        0  0.001418  0.021053  [0.00, 0.22]        0        0.000076\n",
       "4        0  0.000171  0.021053  [0.00, 0.22]        0        0.000076\n",
       "..     ...       ...       ...           ...      ...             ...\n",
       "183      1  0.972605  0.947368  [0.41, 0.99]        3        0.000076\n",
       "184      2  0.998484  1.000000  [0.99, 1.00]        3        0.000000\n",
       "185      1  0.921229  0.947368  [0.41, 0.99]        3        0.000076\n",
       "186      1  0.440322  0.947368  [0.41, 0.99]        3        0.000076\n",
       "187      0  0.150917  0.021053  [0.00, 0.41]        3        0.000076\n",
       "\n",
       "[701 rows x 6 columns]"
      ]
     },
     "execution_count": 12,
     "metadata": {},
     "output_type": "execute_result"
    }
   ],
   "source": [
    "df_var_data\n"
   ]
  },
  {
   "cell_type": "code",
   "execution_count": null,
   "id": "45ab42d4",
   "metadata": {},
   "outputs": [],
   "source": [
    "df_var_data.groupby(by=['binid'])[\"p_estim\"].var(ddof=0)"
   ]
  },
  {
   "cell_type": "code",
   "execution_count": 10,
   "id": "b0b9aa09-902e-4871-acf9-576c3873e154",
   "metadata": {},
   "outputs": [
    {
     "data": {
      "text/plain": [
       "0      0.000076\n",
       "1      0.000000\n",
       "2      0.000076\n",
       "3      0.000076\n",
       "4      0.000076\n",
       "         ...   \n",
       "183    0.000076\n",
       "184    0.000000\n",
       "185    0.000076\n",
       "186    0.000076\n",
       "187    0.000076\n",
       "Name: p_estim, Length: 184, dtype: float64"
      ]
     },
     "execution_count": 10,
     "metadata": {},
     "output_type": "execute_result"
    }
   ],
   "source": [
    "df_var_data.groupby(level=0)[\"p_estim\"].var(ddof=0)"
   ]
  },
  {
   "cell_type": "code",
   "execution_count": 77,
   "id": "cc4fb805-d0a8-4884-ba93-f29b28198880",
   "metadata": {},
   "outputs": [
    {
     "data": {
      "text/plain": [
       "0      0.957895\n",
       "1      0.010526\n",
       "2      0.010526\n",
       "3      1.000000\n",
       "4      1.000000\n",
       "         ...   \n",
       "183    0.010526\n",
       "184    0.010526\n",
       "185    0.010526\n",
       "186    0.957895\n",
       "187    0.957895\n",
       "Name: p_estim, Length: 188, dtype: float64"
      ]
     },
     "execution_count": 77,
     "metadata": {},
     "output_type": "execute_result"
    }
   ],
   "source": [
    "df_var_data.groupby(level=0)[\"p_estim\"].mean()"
   ]
  },
  {
   "cell_type": "code",
   "execution_count": 103,
   "id": "5e8f4eb3-3a0e-4b61-82f7-b6c8fd74c4ba",
   "metadata": {},
   "outputs": [
    {
     "data": {
      "text/html": [
       "<div>\n",
       "<style scoped>\n",
       "    .dataframe tbody tr th:only-of-type {\n",
       "        vertical-align: middle;\n",
       "    }\n",
       "\n",
       "    .dataframe tbody tr th {\n",
       "        vertical-align: top;\n",
       "    }\n",
       "\n",
       "    .dataframe thead th {\n",
       "        text-align: right;\n",
       "    }\n",
       "</style>\n",
       "<table border=\"1\" class=\"dataframe\">\n",
       "  <thead>\n",
       "    <tr style=\"text-align: right;\">\n",
       "      <th></th>\n",
       "      <th>binid</th>\n",
       "      <th>y_score</th>\n",
       "      <th>p_estim</th>\n",
       "      <th>calib_range</th>\n",
       "      <th>pred_id</th>\n",
       "      <th>point_id</th>\n",
       "      <th>point_wisw_var</th>\n",
       "      <th>p_estim_mean</th>\n",
       "    </tr>\n",
       "  </thead>\n",
       "  <tbody>\n",
       "    <tr>\n",
       "      <th>0</th>\n",
       "      <td>1</td>\n",
       "      <td>0.892063</td>\n",
       "      <td>0.957895</td>\n",
       "      <td>(0.2454; 0.9974)</td>\n",
       "      <td>0</td>\n",
       "      <td>0</td>\n",
       "      <td>0.000032</td>\n",
       "      <td>0.957895</td>\n",
       "    </tr>\n",
       "    <tr>\n",
       "      <th>1</th>\n",
       "      <td>0</td>\n",
       "      <td>0.000074</td>\n",
       "      <td>0.010526</td>\n",
       "      <td>(0.0; 0.2454)</td>\n",
       "      <td>0</td>\n",
       "      <td>1</td>\n",
       "      <td>0.000032</td>\n",
       "      <td>0.010526</td>\n",
       "    </tr>\n",
       "    <tr>\n",
       "      <th>2</th>\n",
       "      <td>0</td>\n",
       "      <td>0.004527</td>\n",
       "      <td>0.010526</td>\n",
       "      <td>(0.0; 0.2454)</td>\n",
       "      <td>0</td>\n",
       "      <td>2</td>\n",
       "      <td>0.000032</td>\n",
       "      <td>0.010526</td>\n",
       "    </tr>\n",
       "    <tr>\n",
       "      <th>3</th>\n",
       "      <td>2</td>\n",
       "      <td>0.998851</td>\n",
       "      <td>1.000000</td>\n",
       "      <td>(0.9974; 1.0)</td>\n",
       "      <td>0</td>\n",
       "      <td>3</td>\n",
       "      <td>0.000000</td>\n",
       "      <td>1.000000</td>\n",
       "    </tr>\n",
       "    <tr>\n",
       "      <th>4</th>\n",
       "      <td>2</td>\n",
       "      <td>0.999847</td>\n",
       "      <td>1.000000</td>\n",
       "      <td>(0.9974; 1.0)</td>\n",
       "      <td>0</td>\n",
       "      <td>4</td>\n",
       "      <td>0.000000</td>\n",
       "      <td>1.000000</td>\n",
       "    </tr>\n",
       "    <tr>\n",
       "      <th>...</th>\n",
       "      <td>...</td>\n",
       "      <td>...</td>\n",
       "      <td>...</td>\n",
       "      <td>...</td>\n",
       "      <td>...</td>\n",
       "      <td>...</td>\n",
       "      <td>...</td>\n",
       "      <td>...</td>\n",
       "    </tr>\n",
       "    <tr>\n",
       "      <th>183</th>\n",
       "      <td>0</td>\n",
       "      <td>0.018769</td>\n",
       "      <td>0.010526</td>\n",
       "      <td>(0.0; 0.3248)</td>\n",
       "      <td>6</td>\n",
       "      <td>183</td>\n",
       "      <td>0.000032</td>\n",
       "      <td>0.010526</td>\n",
       "    </tr>\n",
       "    <tr>\n",
       "      <th>184</th>\n",
       "      <td>0</td>\n",
       "      <td>0.000750</td>\n",
       "      <td>0.010526</td>\n",
       "      <td>(0.0; 0.3248)</td>\n",
       "      <td>6</td>\n",
       "      <td>184</td>\n",
       "      <td>0.000032</td>\n",
       "      <td>0.010526</td>\n",
       "    </tr>\n",
       "    <tr>\n",
       "      <th>185</th>\n",
       "      <td>0</td>\n",
       "      <td>0.065383</td>\n",
       "      <td>0.010526</td>\n",
       "      <td>(0.0; 0.3248)</td>\n",
       "      <td>6</td>\n",
       "      <td>185</td>\n",
       "      <td>0.000032</td>\n",
       "      <td>0.010526</td>\n",
       "    </tr>\n",
       "    <tr>\n",
       "      <th>186</th>\n",
       "      <td>1</td>\n",
       "      <td>0.426141</td>\n",
       "      <td>0.957895</td>\n",
       "      <td>(0.3248; 0.9938)</td>\n",
       "      <td>6</td>\n",
       "      <td>186</td>\n",
       "      <td>0.000032</td>\n",
       "      <td>0.957895</td>\n",
       "    </tr>\n",
       "    <tr>\n",
       "      <th>187</th>\n",
       "      <td>1</td>\n",
       "      <td>0.833199</td>\n",
       "      <td>0.957895</td>\n",
       "      <td>(0.3248; 0.9938)</td>\n",
       "      <td>6</td>\n",
       "      <td>187</td>\n",
       "      <td>0.000032</td>\n",
       "      <td>0.957895</td>\n",
       "    </tr>\n",
       "  </tbody>\n",
       "</table>\n",
       "<p>1316 rows × 8 columns</p>\n",
       "</div>"
      ],
      "text/plain": [
       "     binid   y_score   p_estim  ... point_id  point_wisw_var  p_estim_mean\n",
       "0        1  0.892063  0.957895  ...        0        0.000032      0.957895\n",
       "1        0  0.000074  0.010526  ...        1        0.000032      0.010526\n",
       "2        0  0.004527  0.010526  ...        2        0.000032      0.010526\n",
       "3        2  0.998851  1.000000  ...        3        0.000000      1.000000\n",
       "4        2  0.999847  1.000000  ...        4        0.000000      1.000000\n",
       "..     ...       ...       ...  ...      ...             ...           ...\n",
       "183      0  0.018769  0.010526  ...      183        0.000032      0.010526\n",
       "184      0  0.000750  0.010526  ...      184        0.000032      0.010526\n",
       "185      0  0.065383  0.010526  ...      185        0.000032      0.010526\n",
       "186      1  0.426141  0.957895  ...      186        0.000032      0.957895\n",
       "187      1  0.833199  0.957895  ...      187        0.000032      0.957895\n",
       "\n",
       "[1316 rows x 8 columns]"
      ]
     },
     "execution_count": 103,
     "metadata": {},
     "output_type": "execute_result"
    }
   ],
   "source": [
    "df_var_data"
   ]
  },
  {
   "cell_type": "code",
   "execution_count": 60,
   "id": "2293aa44-4651-400d-885c-7ebdbfbc3589",
   "metadata": {},
   "outputs": [],
   "source": [
    "df_var_data['p_estim_mean'] = df_var_data.groupby(level=0)[\"p_estim\"].mean()"
   ]
  },
  {
   "cell_type": "code",
   "execution_count": 108,
   "id": "6a1de73d-5076-4d24-846d-f2993850da49",
   "metadata": {},
   "outputs": [
    {
     "data": {
      "text/html": [
       "<div>\n",
       "<style scoped>\n",
       "    .dataframe tbody tr th:only-of-type {\n",
       "        vertical-align: middle;\n",
       "    }\n",
       "\n",
       "    .dataframe tbody tr th {\n",
       "        vertical-align: top;\n",
       "    }\n",
       "\n",
       "    .dataframe thead th {\n",
       "        text-align: right;\n",
       "    }\n",
       "</style>\n",
       "<table border=\"1\" class=\"dataframe\">\n",
       "  <thead>\n",
       "    <tr style=\"text-align: right;\">\n",
       "      <th></th>\n",
       "      <th>binid</th>\n",
       "      <th>y_score</th>\n",
       "      <th>p_estim</th>\n",
       "      <th>calib_range</th>\n",
       "      <th>pred_id</th>\n",
       "      <th>point_id</th>\n",
       "      <th>point_wisw_var</th>\n",
       "      <th>p_estim_mean</th>\n",
       "    </tr>\n",
       "  </thead>\n",
       "  <tbody>\n",
       "    <tr>\n",
       "      <th>2</th>\n",
       "      <td>0</td>\n",
       "      <td>0.004527</td>\n",
       "      <td>0.010526</td>\n",
       "      <td>(0.0; 0.2454)</td>\n",
       "      <td>0</td>\n",
       "      <td>2</td>\n",
       "      <td>0.000032</td>\n",
       "      <td>0.010526</td>\n",
       "    </tr>\n",
       "    <tr>\n",
       "      <th>2</th>\n",
       "      <td>0</td>\n",
       "      <td>0.008192</td>\n",
       "      <td>0.021053</td>\n",
       "      <td>(0.0; 0.2609)</td>\n",
       "      <td>1</td>\n",
       "      <td>2</td>\n",
       "      <td>0.000032</td>\n",
       "      <td>0.010526</td>\n",
       "    </tr>\n",
       "    <tr>\n",
       "      <th>2</th>\n",
       "      <td>0</td>\n",
       "      <td>0.009123</td>\n",
       "      <td>0.010526</td>\n",
       "      <td>(0.0; 0.3733)</td>\n",
       "      <td>2</td>\n",
       "      <td>2</td>\n",
       "      <td>0.000032</td>\n",
       "      <td>0.010526</td>\n",
       "    </tr>\n",
       "    <tr>\n",
       "      <th>2</th>\n",
       "      <td>0</td>\n",
       "      <td>0.009884</td>\n",
       "      <td>0.010526</td>\n",
       "      <td>(0.0; 0.3753)</td>\n",
       "      <td>3</td>\n",
       "      <td>2</td>\n",
       "      <td>0.000032</td>\n",
       "      <td>0.010526</td>\n",
       "    </tr>\n",
       "    <tr>\n",
       "      <th>2</th>\n",
       "      <td>0</td>\n",
       "      <td>0.005147</td>\n",
       "      <td>0.010526</td>\n",
       "      <td>(0.0; 0.3228)</td>\n",
       "      <td>4</td>\n",
       "      <td>2</td>\n",
       "      <td>0.000032</td>\n",
       "      <td>0.010526</td>\n",
       "    </tr>\n",
       "    <tr>\n",
       "      <th>2</th>\n",
       "      <td>0</td>\n",
       "      <td>0.007634</td>\n",
       "      <td>0.000000</td>\n",
       "      <td>(0.0; 0.4404)</td>\n",
       "      <td>5</td>\n",
       "      <td>2</td>\n",
       "      <td>0.000032</td>\n",
       "      <td>0.010526</td>\n",
       "    </tr>\n",
       "    <tr>\n",
       "      <th>2</th>\n",
       "      <td>0</td>\n",
       "      <td>0.006094</td>\n",
       "      <td>0.010526</td>\n",
       "      <td>(0.0; 0.3248)</td>\n",
       "      <td>6</td>\n",
       "      <td>2</td>\n",
       "      <td>0.000032</td>\n",
       "      <td>0.010526</td>\n",
       "    </tr>\n",
       "  </tbody>\n",
       "</table>\n",
       "</div>"
      ],
      "text/plain": [
       "   binid   y_score   p_estim  ... point_id  point_wisw_var  p_estim_mean\n",
       "2      0  0.004527  0.010526  ...        2        0.000032      0.010526\n",
       "2      0  0.008192  0.021053  ...        2        0.000032      0.010526\n",
       "2      0  0.009123  0.010526  ...        2        0.000032      0.010526\n",
       "2      0  0.009884  0.010526  ...        2        0.000032      0.010526\n",
       "2      0  0.005147  0.010526  ...        2        0.000032      0.010526\n",
       "2      0  0.007634  0.000000  ...        2        0.000032      0.010526\n",
       "2      0  0.006094  0.010526  ...        2        0.000032      0.010526\n",
       "\n",
       "[7 rows x 8 columns]"
      ]
     },
     "execution_count": 108,
     "metadata": {},
     "output_type": "execute_result"
    }
   ],
   "source": [
    "df_var_data[df_var_data.index == 2]"
   ]
  },
  {
   "cell_type": "code",
   "execution_count": 62,
   "id": "3b5140e4-1535-4c35-beb5-49d10d5d4cbb",
   "metadata": {},
   "outputs": [
    {
     "data": {
      "text/html": [
       "<div>\n",
       "<style scoped>\n",
       "    .dataframe tbody tr th:only-of-type {\n",
       "        vertical-align: middle;\n",
       "    }\n",
       "\n",
       "    .dataframe tbody tr th {\n",
       "        vertical-align: top;\n",
       "    }\n",
       "\n",
       "    .dataframe thead th {\n",
       "        text-align: right;\n",
       "    }\n",
       "</style>\n",
       "<table border=\"1\" class=\"dataframe\">\n",
       "  <thead>\n",
       "    <tr style=\"text-align: right;\">\n",
       "      <th></th>\n",
       "      <th>binid</th>\n",
       "      <th>y_score</th>\n",
       "      <th>p_estim</th>\n",
       "      <th>calib_range</th>\n",
       "      <th>pred_id</th>\n",
       "      <th>point_id</th>\n",
       "      <th>point_wisw_var</th>\n",
       "      <th>p_estim_mean</th>\n",
       "    </tr>\n",
       "  </thead>\n",
       "  <tbody>\n",
       "    <tr>\n",
       "      <th>0</th>\n",
       "      <td>1</td>\n",
       "      <td>0.892063</td>\n",
       "      <td>0.957895</td>\n",
       "      <td>(0.2454; 0.9974)</td>\n",
       "      <td>0</td>\n",
       "      <td>0</td>\n",
       "      <td>0.000037</td>\n",
       "      <td>0.957895</td>\n",
       "    </tr>\n",
       "    <tr>\n",
       "      <th>0</th>\n",
       "      <td>1</td>\n",
       "      <td>0.823622</td>\n",
       "      <td>0.947368</td>\n",
       "      <td>(0.2609; 0.9944)</td>\n",
       "      <td>1</td>\n",
       "      <td>0</td>\n",
       "      <td>0.000037</td>\n",
       "      <td>0.957895</td>\n",
       "    </tr>\n",
       "    <tr>\n",
       "      <th>0</th>\n",
       "      <td>1</td>\n",
       "      <td>0.822040</td>\n",
       "      <td>0.957895</td>\n",
       "      <td>(0.3733; 0.9929)</td>\n",
       "      <td>2</td>\n",
       "      <td>0</td>\n",
       "      <td>0.000037</td>\n",
       "      <td>0.957895</td>\n",
       "    </tr>\n",
       "    <tr>\n",
       "      <th>0</th>\n",
       "      <td>1</td>\n",
       "      <td>0.849302</td>\n",
       "      <td>0.957895</td>\n",
       "      <td>(0.3753; 0.9937)</td>\n",
       "      <td>3</td>\n",
       "      <td>0</td>\n",
       "      <td>0.000037</td>\n",
       "      <td>0.957895</td>\n",
       "    </tr>\n",
       "    <tr>\n",
       "      <th>0</th>\n",
       "      <td>1</td>\n",
       "      <td>0.856845</td>\n",
       "      <td>0.957895</td>\n",
       "      <td>(0.3228; 0.9967)</td>\n",
       "      <td>4</td>\n",
       "      <td>0</td>\n",
       "      <td>0.000037</td>\n",
       "      <td>0.957895</td>\n",
       "    </tr>\n",
       "    <tr>\n",
       "      <th>0</th>\n",
       "      <td>1</td>\n",
       "      <td>0.831432</td>\n",
       "      <td>0.968421</td>\n",
       "      <td>(0.4404; 0.9949)</td>\n",
       "      <td>5</td>\n",
       "      <td>0</td>\n",
       "      <td>0.000037</td>\n",
       "      <td>0.957895</td>\n",
       "    </tr>\n",
       "    <tr>\n",
       "      <th>0</th>\n",
       "      <td>1</td>\n",
       "      <td>0.808095</td>\n",
       "      <td>0.957895</td>\n",
       "      <td>(0.3248; 0.9938)</td>\n",
       "      <td>6</td>\n",
       "      <td>0</td>\n",
       "      <td>0.000037</td>\n",
       "      <td>0.957895</td>\n",
       "    </tr>\n",
       "  </tbody>\n",
       "</table>\n",
       "</div>"
      ],
      "text/plain": [
       "   binid   y_score   p_estim  ... point_id  point_wisw_var  p_estim_mean\n",
       "0      1  0.892063  0.957895  ...        0        0.000037      0.957895\n",
       "0      1  0.823622  0.947368  ...        0        0.000037      0.957895\n",
       "0      1  0.822040  0.957895  ...        0        0.000037      0.957895\n",
       "0      1  0.849302  0.957895  ...        0        0.000037      0.957895\n",
       "0      1  0.856845  0.957895  ...        0        0.000037      0.957895\n",
       "0      1  0.831432  0.968421  ...        0        0.000037      0.957895\n",
       "0      1  0.808095  0.957895  ...        0        0.000037      0.957895\n",
       "\n",
       "[7 rows x 8 columns]"
      ]
     },
     "execution_count": 62,
     "metadata": {},
     "output_type": "execute_result"
    }
   ],
   "source": [
    "df_var_data[df_var_data.index == 0]"
   ]
  },
  {
   "cell_type": "code",
   "execution_count": 82,
   "id": "c11849c0-adb9-4469-9a19-f9d9593d6e3d",
   "metadata": {},
   "outputs": [
    {
     "data": {
      "text/plain": [
       "1    0.010526\n",
       "1    0.021053\n",
       "1    0.010526\n",
       "1    0.010526\n",
       "1    0.010526\n",
       "1    0.000000\n",
       "1    0.010526\n",
       "Name: p_estim, dtype: float64"
      ]
     },
     "execution_count": 82,
     "metadata": {},
     "output_type": "execute_result"
    }
   ],
   "source": [
    "df_var_data[df_var_data.index == 1]['p_estim']"
   ]
  },
  {
   "cell_type": "code",
   "execution_count": 124,
   "id": "cd4f4315-7aca-42ac-8871-d3ed95bdc150",
   "metadata": {},
   "outputs": [
    {
     "data": {
      "text/plain": [
       "0    0.000032\n",
       "0    0.000032\n",
       "0    0.000032\n",
       "0    0.000032\n",
       "0    0.000032\n",
       "0    0.000032\n",
       "0    0.000032\n",
       "Name: point_wisw_var, dtype: float64"
      ]
     },
     "execution_count": 124,
     "metadata": {},
     "output_type": "execute_result"
    }
   ],
   "source": [
    "df_var_data[df_var_data.index == 0]['point_wisw_var']"
   ]
  },
  {
   "cell_type": "code",
   "execution_count": 116,
   "id": "d1b2303f-3be5-4a2b-bc0e-34acdf8b13a5",
   "metadata": {},
   "outputs": [
    {
     "data": {
      "text/plain": [
       "np.float64(0.010526315789473686)"
      ]
     },
     "execution_count": 116,
     "metadata": {},
     "output_type": "execute_result"
    }
   ],
   "source": [
    "df_var_data[df_var_data.index == 2]['p_estim'].mean()"
   ]
  },
  {
   "cell_type": "code",
   "execution_count": 121,
   "id": "f624162f-52ea-454a-bca7-4983726a378b",
   "metadata": {},
   "outputs": [
    {
     "data": {
      "text/plain": [
       "6    0.010526\n",
       "6    0.021053\n",
       "6    0.010526\n",
       "6    0.010526\n",
       "6    0.010526\n",
       "6    0.000000\n",
       "6    0.010526\n",
       "Name: p_estim, dtype: float64"
      ]
     },
     "execution_count": 121,
     "metadata": {},
     "output_type": "execute_result"
    }
   ],
   "source": [
    "df_var_data[df_var_data.index == 6]['p_estim']"
   ]
  },
  {
   "cell_type": "code",
   "execution_count": 123,
   "id": "bff58f8a-f551-4362-9914-98555e22de4d",
   "metadata": {},
   "outputs": [
    {
     "data": {
      "text/plain": [
       "0    0.957895\n",
       "0    0.947368\n",
       "0    0.957895\n",
       "0    0.957895\n",
       "0    0.957895\n",
       "0    0.968421\n",
       "0    0.957895\n",
       "Name: p_estim, dtype: float64"
      ]
     },
     "execution_count": 123,
     "metadata": {},
     "output_type": "execute_result"
    }
   ],
   "source": [
    "df_var_data[df_var_data.index == 0]['p_estim']"
   ]
  },
  {
   "cell_type": "code",
   "execution_count": 141,
   "id": "8bdd9e4f-1577-4594-b20f-77894bcfea3d",
   "metadata": {},
   "outputs": [
    {
     "data": {
      "text/plain": [
       "3.165809259992105e-05"
      ]
     },
     "execution_count": 141,
     "metadata": {},
     "output_type": "execute_result"
    }
   ],
   "source": [
    "df_var_data[df_var_data.index == 0]['p_estim'].var(ddof=0)"
   ]
  },
  {
   "cell_type": "code",
   "execution_count": 143,
   "id": "da1b0be8-1253-4e14-bfa0-083333e0464c",
   "metadata": {},
   "outputs": [
    {
     "data": {
      "text/plain": [
       "0    0.957895\n",
       "0    0.947368\n",
       "0    0.957895\n",
       "0    0.957895\n",
       "0    0.957895\n",
       "0    0.968421\n",
       "0    0.957895\n",
       "Name: p_estim, dtype: float64"
      ]
     },
     "execution_count": 143,
     "metadata": {},
     "output_type": "execute_result"
    }
   ],
   "source": [
    "import numpy as np\n",
    "df_var_data[df_var_data.index == 0]['p_estim']"
   ]
  },
  {
   "cell_type": "code",
   "execution_count": 145,
   "id": "a26c9b8a-65a5-405e-a739-a13a87011b00",
   "metadata": {},
   "outputs": [
    {
     "data": {
      "text/plain": [
       "6    0.010526\n",
       "6    0.021053\n",
       "6    0.010526\n",
       "6    0.010526\n",
       "6    0.010526\n",
       "6    0.000000\n",
       "6    0.010526\n",
       "Name: p_estim, dtype: float64"
      ]
     },
     "execution_count": 145,
     "metadata": {},
     "output_type": "execute_result"
    }
   ],
   "source": [
    "df_var_data[df_var_data.index == 6]['p_estim'] "
   ]
  },
  {
   "cell_type": "code",
   "execution_count": 38,
   "id": "3fa9930b-1915-46ee-8ac6-38819d8edba5",
   "metadata": {},
   "outputs": [
    {
     "data": {
      "text/html": [
       "<div>\n",
       "<style scoped>\n",
       "    .dataframe tbody tr th:only-of-type {\n",
       "        vertical-align: middle;\n",
       "    }\n",
       "\n",
       "    .dataframe tbody tr th {\n",
       "        vertical-align: top;\n",
       "    }\n",
       "\n",
       "    .dataframe thead th {\n",
       "        text-align: right;\n",
       "    }\n",
       "</style>\n",
       "<table border=\"1\" class=\"dataframe\">\n",
       "  <thead>\n",
       "    <tr style=\"text-align: right;\">\n",
       "      <th></th>\n",
       "      <th>binid</th>\n",
       "      <th>y_score</th>\n",
       "      <th>p_estim</th>\n",
       "      <th>calib_range</th>\n",
       "      <th>pred_id</th>\n",
       "      <th>point_id</th>\n",
       "      <th>point_wisw_var</th>\n",
       "    </tr>\n",
       "  </thead>\n",
       "  <tbody>\n",
       "    <tr>\n",
       "      <th>2</th>\n",
       "      <td>1</td>\n",
       "      <td>0.004307</td>\n",
       "      <td>0.298246</td>\n",
       "      <td>(0.0018; 0.8539)</td>\n",
       "      <td>0</td>\n",
       "      <td>2</td>\n",
       "      <td>0.0</td>\n",
       "    </tr>\n",
       "    <tr>\n",
       "      <th>7</th>\n",
       "      <td>1</td>\n",
       "      <td>0.083968</td>\n",
       "      <td>0.298246</td>\n",
       "      <td>(0.0018; 0.8539)</td>\n",
       "      <td>0</td>\n",
       "      <td>7</td>\n",
       "      <td>0.0</td>\n",
       "    </tr>\n",
       "    <tr>\n",
       "      <th>8</th>\n",
       "      <td>1</td>\n",
       "      <td>0.508088</td>\n",
       "      <td>0.298246</td>\n",
       "      <td>(0.0018; 0.8539)</td>\n",
       "      <td>0</td>\n",
       "      <td>8</td>\n",
       "      <td>0.0</td>\n",
       "    </tr>\n",
       "    <tr>\n",
       "      <th>11</th>\n",
       "      <td>1</td>\n",
       "      <td>0.029227</td>\n",
       "      <td>0.298246</td>\n",
       "      <td>(0.0018; 0.8539)</td>\n",
       "      <td>0</td>\n",
       "      <td>11</td>\n",
       "      <td>0.0</td>\n",
       "    </tr>\n",
       "    <tr>\n",
       "      <th>13</th>\n",
       "      <td>1</td>\n",
       "      <td>0.214950</td>\n",
       "      <td>0.298246</td>\n",
       "      <td>(0.0018; 0.8539)</td>\n",
       "      <td>0</td>\n",
       "      <td>13</td>\n",
       "      <td>0.0</td>\n",
       "    </tr>\n",
       "    <tr>\n",
       "      <th>...</th>\n",
       "      <td>...</td>\n",
       "      <td>...</td>\n",
       "      <td>...</td>\n",
       "      <td>...</td>\n",
       "      <td>...</td>\n",
       "      <td>...</td>\n",
       "      <td>...</td>\n",
       "    </tr>\n",
       "    <tr>\n",
       "      <th>169</th>\n",
       "      <td>1</td>\n",
       "      <td>0.035860</td>\n",
       "      <td>0.298246</td>\n",
       "      <td>(0.0028; 0.8216)</td>\n",
       "      <td>4</td>\n",
       "      <td>169</td>\n",
       "      <td>0.0</td>\n",
       "    </tr>\n",
       "    <tr>\n",
       "      <th>176</th>\n",
       "      <td>1</td>\n",
       "      <td>0.177245</td>\n",
       "      <td>0.298246</td>\n",
       "      <td>(0.0028; 0.8216)</td>\n",
       "      <td>4</td>\n",
       "      <td>176</td>\n",
       "      <td>0.0</td>\n",
       "    </tr>\n",
       "    <tr>\n",
       "      <th>183</th>\n",
       "      <td>1</td>\n",
       "      <td>0.022269</td>\n",
       "      <td>0.298246</td>\n",
       "      <td>(0.0028; 0.8216)</td>\n",
       "      <td>4</td>\n",
       "      <td>183</td>\n",
       "      <td>0.0</td>\n",
       "    </tr>\n",
       "    <tr>\n",
       "      <th>185</th>\n",
       "      <td>1</td>\n",
       "      <td>0.058665</td>\n",
       "      <td>0.298246</td>\n",
       "      <td>(0.0028; 0.8216)</td>\n",
       "      <td>4</td>\n",
       "      <td>185</td>\n",
       "      <td>0.0</td>\n",
       "    </tr>\n",
       "    <tr>\n",
       "      <th>186</th>\n",
       "      <td>1</td>\n",
       "      <td>0.488978</td>\n",
       "      <td>0.298246</td>\n",
       "      <td>(0.0028; 0.8216)</td>\n",
       "      <td>4</td>\n",
       "      <td>186</td>\n",
       "      <td>0.0</td>\n",
       "    </tr>\n",
       "  </tbody>\n",
       "</table>\n",
       "<p>190 rows × 7 columns</p>\n",
       "</div>"
      ],
      "text/plain": [
       "     binid   y_score   p_estim  ... pred_id  point_id  point_wisw_var\n",
       "2        1  0.004307  0.298246  ...       0         2             0.0\n",
       "7        1  0.083968  0.298246  ...       0         7             0.0\n",
       "8        1  0.508088  0.298246  ...       0         8             0.0\n",
       "11       1  0.029227  0.298246  ...       0        11             0.0\n",
       "13       1  0.214950  0.298246  ...       0        13             0.0\n",
       "..     ...       ...       ...  ...     ...       ...             ...\n",
       "169      1  0.035860  0.298246  ...       4       169             0.0\n",
       "176      1  0.177245  0.298246  ...       4       176             0.0\n",
       "183      1  0.022269  0.298246  ...       4       183             0.0\n",
       "185      1  0.058665  0.298246  ...       4       185             0.0\n",
       "186      1  0.488978  0.298246  ...       4       186             0.0\n",
       "\n",
       "[190 rows x 7 columns]"
      ]
     },
     "execution_count": 38,
     "metadata": {},
     "output_type": "execute_result"
    }
   ],
   "source": [
    "df_var_data[df_var_data.binid == 1]"
   ]
  },
  {
   "cell_type": "code",
   "execution_count": 29,
   "id": "fbcd3eab-4e1b-4b1e-8e48-e4d305766f17",
   "metadata": {},
   "outputs": [
    {
     "data": {
      "text/html": [
       "<div>\n",
       "<style scoped>\n",
       "    .dataframe tbody tr th:only-of-type {\n",
       "        vertical-align: middle;\n",
       "    }\n",
       "\n",
       "    .dataframe tbody tr th {\n",
       "        vertical-align: top;\n",
       "    }\n",
       "\n",
       "    .dataframe thead th {\n",
       "        text-align: right;\n",
       "    }\n",
       "</style>\n",
       "<table border=\"1\" class=\"dataframe\">\n",
       "  <thead>\n",
       "    <tr style=\"text-align: right;\">\n",
       "      <th></th>\n",
       "      <th>binid</th>\n",
       "      <th>y_score</th>\n",
       "      <th>p_estim</th>\n",
       "      <th>calib_range</th>\n",
       "      <th>pred_id</th>\n",
       "      <th>point_id</th>\n",
       "      <th>point_wisw_var</th>\n",
       "    </tr>\n",
       "  </thead>\n",
       "  <tbody>\n",
       "    <tr>\n",
       "      <th>1</th>\n",
       "      <td>0</td>\n",
       "      <td>8.052214e-05</td>\n",
       "      <td>0.015873</td>\n",
       "      <td>(0.0; 0.1428)</td>\n",
       "      <td>0</td>\n",
       "      <td>1</td>\n",
       "      <td>0.000084</td>\n",
       "    </tr>\n",
       "    <tr>\n",
       "      <th>2</th>\n",
       "      <td>0</td>\n",
       "      <td>4.472128e-03</td>\n",
       "      <td>0.015873</td>\n",
       "      <td>(0.0; 0.1428)</td>\n",
       "      <td>0</td>\n",
       "      <td>2</td>\n",
       "      <td>0.000084</td>\n",
       "    </tr>\n",
       "    <tr>\n",
       "      <th>5</th>\n",
       "      <td>0</td>\n",
       "      <td>6.430832e-10</td>\n",
       "      <td>0.015873</td>\n",
       "      <td>(0.0; 0.1428)</td>\n",
       "      <td>0</td>\n",
       "      <td>5</td>\n",
       "      <td>0.000084</td>\n",
       "    </tr>\n",
       "    <tr>\n",
       "      <th>6</th>\n",
       "      <td>0</td>\n",
       "      <td>6.095533e-08</td>\n",
       "      <td>0.015873</td>\n",
       "      <td>(0.0; 0.1428)</td>\n",
       "      <td>0</td>\n",
       "      <td>6</td>\n",
       "      <td>0.000084</td>\n",
       "    </tr>\n",
       "    <tr>\n",
       "      <th>7</th>\n",
       "      <td>0</td>\n",
       "      <td>9.138070e-02</td>\n",
       "      <td>0.015873</td>\n",
       "      <td>(0.0; 0.1428)</td>\n",
       "      <td>0</td>\n",
       "      <td>7</td>\n",
       "      <td>0.000084</td>\n",
       "    </tr>\n",
       "    <tr>\n",
       "      <th>...</th>\n",
       "      <td>...</td>\n",
       "      <td>...</td>\n",
       "      <td>...</td>\n",
       "      <td>...</td>\n",
       "      <td>...</td>\n",
       "      <td>...</td>\n",
       "      <td>...</td>\n",
       "    </tr>\n",
       "    <tr>\n",
       "      <th>169</th>\n",
       "      <td>0</td>\n",
       "      <td>1.702033e-02</td>\n",
       "      <td>0.000000</td>\n",
       "      <td>(0.0; 0.2972)</td>\n",
       "      <td>2</td>\n",
       "      <td>169</td>\n",
       "      <td>0.000084</td>\n",
       "    </tr>\n",
       "    <tr>\n",
       "      <th>176</th>\n",
       "      <td>0</td>\n",
       "      <td>1.445541e-01</td>\n",
       "      <td>0.000000</td>\n",
       "      <td>(0.0; 0.2972)</td>\n",
       "      <td>2</td>\n",
       "      <td>176</td>\n",
       "      <td>0.276957</td>\n",
       "    </tr>\n",
       "    <tr>\n",
       "      <th>183</th>\n",
       "      <td>0</td>\n",
       "      <td>1.294548e-02</td>\n",
       "      <td>0.000000</td>\n",
       "      <td>(0.0; 0.2972)</td>\n",
       "      <td>2</td>\n",
       "      <td>183</td>\n",
       "      <td>0.000084</td>\n",
       "    </tr>\n",
       "    <tr>\n",
       "      <th>184</th>\n",
       "      <td>0</td>\n",
       "      <td>2.934240e-04</td>\n",
       "      <td>0.000000</td>\n",
       "      <td>(0.0; 0.2972)</td>\n",
       "      <td>2</td>\n",
       "      <td>184</td>\n",
       "      <td>0.000084</td>\n",
       "    </tr>\n",
       "    <tr>\n",
       "      <th>185</th>\n",
       "      <td>0</td>\n",
       "      <td>3.025888e-02</td>\n",
       "      <td>0.000000</td>\n",
       "      <td>(0.0; 0.2972)</td>\n",
       "      <td>2</td>\n",
       "      <td>185</td>\n",
       "      <td>0.000084</td>\n",
       "    </tr>\n",
       "  </tbody>\n",
       "</table>\n",
       "<p>189 rows × 7 columns</p>\n",
       "</div>"
      ],
      "text/plain": [
       "     binid       y_score   p_estim  ... pred_id  point_id  point_wisw_var\n",
       "1        0  8.052214e-05  0.015873  ...       0         1        0.000084\n",
       "2        0  4.472128e-03  0.015873  ...       0         2        0.000084\n",
       "5        0  6.430832e-10  0.015873  ...       0         5        0.000084\n",
       "6        0  6.095533e-08  0.015873  ...       0         6        0.000084\n",
       "7        0  9.138070e-02  0.015873  ...       0         7        0.000084\n",
       "..     ...           ...       ...  ...     ...       ...             ...\n",
       "169      0  1.702033e-02  0.000000  ...       2       169        0.000084\n",
       "176      0  1.445541e-01  0.000000  ...       2       176        0.276957\n",
       "183      0  1.294548e-02  0.000000  ...       2       183        0.000084\n",
       "184      0  2.934240e-04  0.000000  ...       2       184        0.000084\n",
       "185      0  3.025888e-02  0.000000  ...       2       185        0.000084\n",
       "\n",
       "[189 rows x 7 columns]"
      ]
     },
     "execution_count": 29,
     "metadata": {},
     "output_type": "execute_result"
    }
   ],
   "source": [
    "df_var_data[df_var_data.binid == 0]"
   ]
  },
  {
   "cell_type": "code",
   "execution_count": 86,
   "id": "4c51af71-542a-4bf4-9276-79c767ad64b4",
   "metadata": {},
   "outputs": [],
   "source": [
    "import pandas as pd\n",
    "df = pd.DataFrame({'person_id': [0, 1, 2, 3],\n",
    "                   'age': [21, 25, 62, 43],\n",
    "                   'height': [1.61, 1.87, 1.49, 2.01]}\n",
    "                  ).set_index('person_id')"
   ]
  },
  {
   "cell_type": "code",
   "execution_count": 93,
   "id": "552955d1-ad66-492d-b40e-0e7eca850f42",
   "metadata": {},
   "outputs": [
    {
     "data": {
      "text/plain": [
       "0.04227499999999997"
      ]
     },
     "execution_count": 93,
     "metadata": {},
     "output_type": "execute_result"
    }
   ],
   "source": [
    "df['height'].var(ddof=0)"
   ]
  },
  {
   "cell_type": "raw",
   "id": "efae1990-fd0d-4ead-9520-43f8cb4f7d44",
   "metadata": {},
   "source": [
    "height      0.056367"
   ]
  },
  {
   "cell_type": "code",
   "execution_count": 95,
   "id": "d67a3295-e04e-43bd-97a5-e703c9f07d5e",
   "metadata": {},
   "outputs": [
    {
     "data": {
      "text/plain": [
       "np.float64(0.04227499999999997)"
      ]
     },
     "execution_count": 95,
     "metadata": {},
     "output_type": "execute_result"
    }
   ],
   "source": [
    "np.pow(df['height'].mean() - df['height'], 2).mean()"
   ]
  },
  {
   "cell_type": "code",
   "execution_count": 15,
   "id": "f2401656-d80a-40a2-9fa2-d8e41f2cb892",
   "metadata": {},
   "outputs": [],
   "source": [
    "import pandas as pd\n",
    "df_x = pd.DataFrame({\"a\": [1, 2]})"
   ]
  },
  {
   "cell_type": "code",
   "execution_count": 16,
   "id": "072f3057",
   "metadata": {},
   "outputs": [
    {
     "data": {
      "application/vnd.microsoft.datawrangler.viewer.v0+json": {
       "columns": [
        {
         "name": "index",
         "rawType": "int64",
         "type": "integer"
        },
        {
         "name": "a",
         "rawType": "int64",
         "type": "integer"
        }
       ],
       "conversionMethod": "pd.DataFrame",
       "ref": "d698b49b-d759-47cf-9cf9-ecd027568089",
       "rows": [
        [
         "0",
         "1"
        ],
        [
         "1",
         "2"
        ]
       ],
       "shape": {
        "columns": 1,
        "rows": 2
       }
      },
      "text/html": [
       "<div>\n",
       "<style scoped>\n",
       "    .dataframe tbody tr th:only-of-type {\n",
       "        vertical-align: middle;\n",
       "    }\n",
       "\n",
       "    .dataframe tbody tr th {\n",
       "        vertical-align: top;\n",
       "    }\n",
       "\n",
       "    .dataframe thead th {\n",
       "        text-align: right;\n",
       "    }\n",
       "</style>\n",
       "<table border=\"1\" class=\"dataframe\">\n",
       "  <thead>\n",
       "    <tr style=\"text-align: right;\">\n",
       "      <th></th>\n",
       "      <th>a</th>\n",
       "    </tr>\n",
       "  </thead>\n",
       "  <tbody>\n",
       "    <tr>\n",
       "      <th>0</th>\n",
       "      <td>1</td>\n",
       "    </tr>\n",
       "    <tr>\n",
       "      <th>1</th>\n",
       "      <td>2</td>\n",
       "    </tr>\n",
       "  </tbody>\n",
       "</table>\n",
       "</div>"
      ],
      "text/plain": [
       "   a\n",
       "0  1\n",
       "1  2"
      ]
     },
     "execution_count": 16,
     "metadata": {},
     "output_type": "execute_result"
    }
   ],
   "source": [
    "df_x"
   ]
  }
 ],
 "metadata": {
  "kernelspec": {
   "display_name": "Python 3 (ipykernel)",
   "language": "python",
   "name": "python3"
  },
  "language_info": {
   "codemirror_mode": {
    "name": "ipython",
    "version": 3
   },
   "file_extension": ".py",
   "mimetype": "text/x-python",
   "name": "python",
   "nbconvert_exporter": "python",
   "pygments_lexer": "ipython3",
   "version": "3.11.9"
  }
 },
 "nbformat": 4,
 "nbformat_minor": 5
}
