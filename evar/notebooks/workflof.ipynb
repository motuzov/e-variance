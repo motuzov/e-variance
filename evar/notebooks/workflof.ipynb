{
 "cells": [
  {
   "cell_type": "code",
   "execution_count": 1,
   "id": "a17084a5-e534-4a6f-bbe0-d11a59d6032d",
   "metadata": {},
   "outputs": [],
   "source": [
    "%load_ext autoreload\n",
    "%autoreload 2"
   ]
  },
  {
   "cell_type": "code",
   "execution_count": 3,
   "id": "219c15dd-e1ca-4ca0-a997-aeffe943f86b",
   "metadata": {},
   "outputs": [],
   "source": [
    "from evar.workflow import EvarWorkflow, make_kfold_splits\n",
    "from evar.data import COLUMN_NAMES\n",
    "from evar.estimator_var import EVarCntxMngr\n",
    "from evar.viz import plot_bin_pred_hist\n",
    "import numpy as np\n",
    "import pandas as pd\n"
   ]
  },
  {
   "cell_type": "code",
   "execution_count": 4,
   "id": "7f25567d",
   "metadata": {},
   "outputs": [],
   "source": [
    "flow = EvarWorkflow()\n",
    "flow.make_estimator_var()\n",
    "var_data = flow.comp_var_data(n_splits=4, prob_bins=4)\n"
   ]
  },
  {
   "cell_type": "code",
   "execution_count": 21,
   "id": "5bf7b7c4-2e22-4eb3-a871-e87bb1dec366",
   "metadata": {},
   "outputs": [
    {
     "data": {
      "application/vnd.microsoft.datawrangler.viewer.v0+json": {
       "columns": [
        {
         "name": "index",
         "rawType": "int64",
         "type": "integer"
        },
        {
         "name": "p_binid",
         "rawType": "int64",
         "type": "integer"
        },
        {
         "name": "y_score",
         "rawType": "float64",
         "type": "float"
        },
        {
         "name": "p_estim",
         "rawType": "float64",
         "type": "float"
        },
        {
         "name": "p_pred_id",
         "rawType": "int64",
         "type": "integer"
        },
        {
         "name": "y_test",
         "rawType": "int64",
         "type": "integer"
        }
       ],
       "conversionMethod": "pd.DataFrame",
       "ref": "a82647f5-d47a-4c85-9f74-c677ea36fd70",
       "rows": [
        [
         "0",
         "1",
         "0.9277014136922199",
         "0.7096774193548387",
         "0",
         "1"
        ],
        [
         "1",
         "0",
         "0.00041918800346500066",
         "0.0",
         "0",
         "0"
        ],
        [
         "2",
         "0",
         "0.011195646397693753",
         "0.0",
         "0",
         "0"
        ],
        [
         "3",
         "2",
         "0.9972649574473956",
         "1.0",
         "0",
         "1"
        ],
        [
         "4",
         "2",
         "0.9997523702958527",
         "1.0",
         "0",
         "1"
        ],
        [
         "5",
         "0",
         "1.1491924773066714e-10",
         "0.0",
         "0",
         "0"
        ],
        [
         "6",
         "0",
         "8.137120494613032e-08",
         "0.0",
         "0",
         "0"
        ],
        [
         "7",
         "0",
         "0.0969740935720414",
         "0.0",
         "0",
         "0"
        ],
        [
         "8",
         "1",
         "0.3284343339370031",
         "0.7096774193548387",
         "0",
         "1"
        ],
        [
         "9",
         "2",
         "0.9987283548860927",
         "1.0",
         "0",
         "1"
        ],
        [
         "10",
         "1",
         "0.9813449582949204",
         "0.7096774193548387",
         "0",
         "1"
        ],
        [
         "11",
         "0",
         "0.08177348054076601",
         "0.0",
         "0",
         "0"
        ],
        [
         "12",
         "2",
         "0.9957389246359085",
         "1.0",
         "0",
         "1"
        ],
        [
         "13",
         "1",
         "0.15225801227948535",
         "0.7096774193548387",
         "0",
         "0"
        ],
        [
         "14",
         "2",
         "0.9980927468664874",
         "1.0",
         "0",
         "1"
        ],
        [
         "15",
         "0",
         "0.0019497114013798807",
         "0.0",
         "0",
         "0"
        ],
        [
         "16",
         "2",
         "0.9979369726424842",
         "1.0",
         "0",
         "1"
        ],
        [
         "17",
         "3",
         "0.9999858773804714",
         "1.0",
         "0",
         "1"
        ],
        [
         "18",
         "3",
         "0.999999250919849",
         "1.0",
         "0",
         "1"
        ],
        [
         "19",
         "0",
         "7.8563597671559e-06",
         "0.0",
         "0",
         "0"
        ],
        [
         "20",
         "1",
         "0.8596901784307251",
         "0.7096774193548387",
         "0",
         "0"
        ],
        [
         "21",
         "1",
         "0.9918200717237426",
         "0.7096774193548387",
         "0",
         "1"
        ],
        [
         "22",
         "0",
         "1.7550415367810675e-08",
         "0.0",
         "0",
         "0"
        ],
        [
         "23",
         "3",
         "0.9999748538233092",
         "1.0",
         "0",
         "1"
        ],
        [
         "24",
         "2",
         "0.9990981215354277",
         "1.0",
         "0",
         "1"
        ],
        [
         "25",
         "2",
         "0.9987592673828486",
         "1.0",
         "0",
         "1"
        ],
        [
         "26",
         "2",
         "0.9967821542789538",
         "1.0",
         "0",
         "1"
        ],
        [
         "27",
         "2",
         "0.996068854430618",
         "1.0",
         "0",
         "1"
        ],
        [
         "28",
         "2",
         "0.9967551844542337",
         "1.0",
         "0",
         "1"
        ],
        [
         "29",
         "0",
         "7.016584081351024e-06",
         "0.0",
         "0",
         "0"
        ],
        [
         "30",
         "2",
         "0.9990205018762104",
         "1.0",
         "0",
         "1"
        ],
        [
         "31",
         "3",
         "0.9998504186598158",
         "1.0",
         "0",
         "1"
        ],
        [
         "32",
         "2",
         "0.9996117027738326",
         "1.0",
         "0",
         "1"
        ],
        [
         "33",
         "2",
         "0.9958390844720119",
         "1.0",
         "0",
         "1"
        ],
        [
         "34",
         "3",
         "0.9998609212097191",
         "1.0",
         "0",
         "1"
        ],
        [
         "35",
         "2",
         "0.9989548005267116",
         "1.0",
         "0",
         "1"
        ],
        [
         "36",
         "1",
         "0.41241507993081244",
         "0.7096774193548387",
         "0",
         "0"
        ],
        [
         "37",
         "2",
         "0.9995690572490922",
         "1.0",
         "0",
         "1"
        ],
        [
         "38",
         "0",
         "0.0005411355674421374",
         "0.0",
         "0",
         "0"
        ],
        [
         "39",
         "1",
         "0.970707209787664",
         "0.7096774193548387",
         "0",
         "1"
        ],
        [
         "40",
         "3",
         "0.9998518959206176",
         "1.0",
         "0",
         "1"
        ],
        [
         "41",
         "0",
         "0.007314956876679921",
         "0.0",
         "0",
         "0"
        ],
        [
         "42",
         "1",
         "0.9935823286186493",
         "0.7096774193548387",
         "0",
         "1"
        ],
        [
         "43",
         "2",
         "0.9989701965931009",
         "1.0",
         "0",
         "1"
        ],
        [
         "44",
         "2",
         "0.9980115220421595",
         "1.0",
         "0",
         "1"
        ],
        [
         "45",
         "1",
         "0.9692397715387586",
         "0.7096774193548387",
         "0",
         "1"
        ],
        [
         "46",
         "2",
         "0.9993109278344449",
         "1.0",
         "0",
         "1"
        ],
        [
         "47",
         "3",
         "0.9999636724102162",
         "1.0",
         "0",
         "1"
        ],
        [
         "48",
         "1",
         "0.9619566675872022",
         "0.7096774193548387",
         "0",
         "1"
        ],
        [
         "49",
         "2",
         "0.9979534052910688",
         "1.0",
         "0",
         "1"
        ]
       ],
       "shape": {
        "columns": 5,
        "rows": 751
       }
      },
      "text/html": [
       "<div>\n",
       "<style scoped>\n",
       "    .dataframe tbody tr th:only-of-type {\n",
       "        vertical-align: middle;\n",
       "    }\n",
       "\n",
       "    .dataframe tbody tr th {\n",
       "        vertical-align: top;\n",
       "    }\n",
       "\n",
       "    .dataframe thead th {\n",
       "        text-align: right;\n",
       "    }\n",
       "</style>\n",
       "<table border=\"1\" class=\"dataframe\">\n",
       "  <thead>\n",
       "    <tr style=\"text-align: right;\">\n",
       "      <th></th>\n",
       "      <th>p_binid</th>\n",
       "      <th>y_score</th>\n",
       "      <th>p_estim</th>\n",
       "      <th>p_pred_id</th>\n",
       "      <th>y_test</th>\n",
       "    </tr>\n",
       "  </thead>\n",
       "  <tbody>\n",
       "    <tr>\n",
       "      <th>0</th>\n",
       "      <td>1</td>\n",
       "      <td>0.927701</td>\n",
       "      <td>0.709677</td>\n",
       "      <td>0</td>\n",
       "      <td>1</td>\n",
       "    </tr>\n",
       "    <tr>\n",
       "      <th>1</th>\n",
       "      <td>0</td>\n",
       "      <td>0.000419</td>\n",
       "      <td>0.000000</td>\n",
       "      <td>0</td>\n",
       "      <td>0</td>\n",
       "    </tr>\n",
       "    <tr>\n",
       "      <th>2</th>\n",
       "      <td>0</td>\n",
       "      <td>0.011196</td>\n",
       "      <td>0.000000</td>\n",
       "      <td>0</td>\n",
       "      <td>0</td>\n",
       "    </tr>\n",
       "    <tr>\n",
       "      <th>3</th>\n",
       "      <td>2</td>\n",
       "      <td>0.997265</td>\n",
       "      <td>1.000000</td>\n",
       "      <td>0</td>\n",
       "      <td>1</td>\n",
       "    </tr>\n",
       "    <tr>\n",
       "      <th>4</th>\n",
       "      <td>2</td>\n",
       "      <td>0.999752</td>\n",
       "      <td>1.000000</td>\n",
       "      <td>0</td>\n",
       "      <td>1</td>\n",
       "    </tr>\n",
       "    <tr>\n",
       "      <th>...</th>\n",
       "      <td>...</td>\n",
       "      <td>...</td>\n",
       "      <td>...</td>\n",
       "      <td>...</td>\n",
       "      <td>...</td>\n",
       "    </tr>\n",
       "    <tr>\n",
       "      <th>183</th>\n",
       "      <td>0</td>\n",
       "      <td>0.028219</td>\n",
       "      <td>0.000000</td>\n",
       "      <td>3</td>\n",
       "      <td>0</td>\n",
       "    </tr>\n",
       "    <tr>\n",
       "      <th>184</th>\n",
       "      <td>0</td>\n",
       "      <td>0.001090</td>\n",
       "      <td>0.000000</td>\n",
       "      <td>3</td>\n",
       "      <td>0</td>\n",
       "    </tr>\n",
       "    <tr>\n",
       "      <th>185</th>\n",
       "      <td>0</td>\n",
       "      <td>0.043889</td>\n",
       "      <td>0.000000</td>\n",
       "      <td>3</td>\n",
       "      <td>0</td>\n",
       "    </tr>\n",
       "    <tr>\n",
       "      <th>186</th>\n",
       "      <td>1</td>\n",
       "      <td>0.486310</td>\n",
       "      <td>0.709677</td>\n",
       "      <td>3</td>\n",
       "      <td>1</td>\n",
       "    </tr>\n",
       "    <tr>\n",
       "      <th>187</th>\n",
       "      <td>1</td>\n",
       "      <td>0.941959</td>\n",
       "      <td>0.709677</td>\n",
       "      <td>3</td>\n",
       "      <td>1</td>\n",
       "    </tr>\n",
       "  </tbody>\n",
       "</table>\n",
       "<p>751 rows × 5 columns</p>\n",
       "</div>"
      ],
      "text/plain": [
       "     p_binid   y_score   p_estim  p_pred_id  y_test\n",
       "0          1  0.927701  0.709677          0       1\n",
       "1          0  0.000419  0.000000          0       0\n",
       "2          0  0.011196  0.000000          0       0\n",
       "3          2  0.997265  1.000000          0       1\n",
       "4          2  0.999752  1.000000          0       1\n",
       "..       ...       ...       ...        ...     ...\n",
       "183        0  0.028219  0.000000          3       0\n",
       "184        0  0.001090  0.000000          3       0\n",
       "185        0  0.043889  0.000000          3       0\n",
       "186        1  0.486310  0.709677          3       1\n",
       "187        1  0.941959  0.709677          3       1\n",
       "\n",
       "[751 rows x 5 columns]"
      ]
     },
     "execution_count": 21,
     "metadata": {},
     "output_type": "execute_result"
    }
   ],
   "source": [
    "var_data"
   ]
  },
  {
   "cell_type": "code",
   "execution_count": 5,
   "id": "5b5670ed",
   "metadata": {},
   "outputs": [
    {
     "data": {
      "text/plain": [
       "0         {1}\n",
       "1         {0}\n",
       "2         {0}\n",
       "3         {2}\n",
       "4      {2, 3}\n",
       "        ...  \n",
       "183       {0}\n",
       "184       {0}\n",
       "185       {0}\n",
       "186       {1}\n",
       "187       {1}\n",
       "Name: p_binid, Length: 188, dtype: object"
      ]
     },
     "execution_count": 5,
     "metadata": {},
     "output_type": "execute_result"
    }
   ],
   "source": [
    "var_data.groupby(level=0)[COLUMN_NAMES.binid].agg(set).astype('str')"
   ]
  },
  {
   "cell_type": "code",
   "execution_count": 6,
   "id": "370c3781",
   "metadata": {},
   "outputs": [
    {
     "data": {
      "image/png": "[encoded data removed]",
      "text/plain": [
       "<Figure size 640x480 with 1 Axes>"
      ]
     },
     "metadata": {},
     "output_type": "display_data"
    }
   ],
   "source": [
    "plot_bin_pred_hist(var_data)"
   ]
  },
  {
   "cell_type": "code",
   "execution_count": 8,
   "id": "f45b7884-87df-4f69-aac9-5d69d3b84a5d",
   "metadata": {},
   "outputs": [
    {
     "name": "stdout",
     "output_type": "stream",
     "text": [
      "    p_estim      bin_interval\n",
      "0  0.000000  [0.0000, 0.1284]\n",
      "1  0.709677  [0.1284, 0.9942]\n",
      "2  1.000000  [0.9942, 0.9998]\n",
      "3  1.000000  [0.9998, 1.0000]\n",
      "    p_estim      bin_interval\n",
      "0  0.000000  [0.0000, 0.1726]\n",
      "1  0.741935  [0.1726, 0.9927]\n",
      "2  0.967742  [0.9927, 0.9994]\n",
      "3  1.000000  [0.9994, 1.0000]\n",
      "    p_estim      bin_interval\n",
      "0  0.000000  [0.0000, 0.2194]\n",
      "1  0.709677  [0.2194, 0.9885]\n",
      "2  1.000000  [0.9885, 0.9991]\n",
      "3  1.000000  [0.9991, 1.0000]\n",
      "    p_estim      bin_interval\n",
      "0  0.000000  [0.0000, 0.1283]\n",
      "1  0.709677  [0.1283, 0.9908]\n",
      "2  1.000000  [0.9908, 0.9992]\n",
      "3  1.000000  [0.9992, 1.0000]\n"
     ]
    }
   ],
   "source": [
    "with EVarCntxMngr(flow.evar, format_str=\"{0:.4f}\") as ev:\n",
    "    for i, cpp in enumerate(ev.prob_predictors):\n",
    "        print(cpp._calibrate.info)"
   ]
  },
  {
   "cell_type": "code",
   "execution_count": null,
   "id": "827f0c01-d869-491a-b982-5725310427fb",
   "metadata": {},
   "outputs": [],
   "source": []
  }
 ],
 "metadata": {
  "kernelspec": {
   "display_name": "Python 3 (ipykernel)",
   "language": "python",
   "name": "python3"
  },
  "language_info": {
   "codemirror_mode": {
    "name": "ipython",
    "version": 3
   },
   "file_extension": ".py",
   "mimetype": "text/x-python",
   "name": "python",
   "nbconvert_exporter": "python",
   "pygments_lexer": "ipython3",
   "version": "3.11.9"
  }
 },
 "nbformat": 4,
 "nbformat_minor": 5
}
